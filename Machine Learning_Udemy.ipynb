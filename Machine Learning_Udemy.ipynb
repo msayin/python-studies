{
 "cells": [
  {
   "cell_type": "markdown",
   "metadata": {},
   "source": [
    "# Machine Learning"
   ]
  },
  {
   "cell_type": "markdown",
   "metadata": {},
   "source": [
    "# Regression Models"
   ]
  },
  {
   "cell_type": "markdown",
   "metadata": {},
   "source": [
    "# Lineer Regresyonu Modeli"
   ]
  },
  {
   "cell_type": "code",
   "execution_count": 95,
   "metadata": {},
   "outputs": [],
   "source": [
    "# donusturucu linki\n",
    "# https://www.metric-conversions.org/"
   ]
  },
  {
   "cell_type": "code",
   "execution_count": 96,
   "metadata": {},
   "outputs": [],
   "source": [
    "# Lineer Regresyonu Modeli\n",
    "# https://www.google.com/search?rlz=1C1CHBH_enUS821US821&tbm=isch&q=linear+regression+in+python+scikit&chips=q:linear+regression+in+python+scikit,online_chips:numpy,online_chips:matrix,online_chips:machine+learning&usg=AI4_-kTvQT0y4IHWtUEaDVwwtCmcaIyMHA&sa=X&ved=0ahUKEwiF5pS09dzgAhVCXK0KHRznD4IQ4lYILigD&biw=1366&bih=625&dpr=1"
   ]
  },
  {
   "cell_type": "code",
   "execution_count": 97,
   "metadata": {},
   "outputs": [],
   "source": [
    "#python scikit"
   ]
  },
  {
   "cell_type": "code",
   "execution_count": 107,
   "metadata": {},
   "outputs": [],
   "source": [
    "import pandas as pd\n",
    "import numpy as np\n",
    "import matplotlib.pyplot as plt\n",
    "from sklearn.linear_model import LinearRegression\n",
    "from sklearn.metrics import r2_score\n"
   ]
  },
  {
   "cell_type": "code",
   "execution_count": 108,
   "metadata": {},
   "outputs": [
    {
     "name": "stdout",
     "output_type": "stream",
     "text": [
      "       Index    Height     Weight\n",
      "0          1  65.78331  112.99250\n",
      "1          2  71.51521  136.48730\n",
      "2          3  69.39874  153.02690\n",
      "3          4  68.21660  142.33540\n",
      "4          5  67.78781  144.29710\n",
      "5          6  68.69784  123.30240\n",
      "6          7  69.80204  141.49470\n",
      "7          8  70.01472  136.46230\n",
      "8          9  67.90265  112.37230\n",
      "9         10  66.78236  120.66720\n",
      "10        11  66.48769  127.45160\n",
      "11        12  67.62333  114.14300\n",
      "12        13  68.30248  125.61070\n",
      "13        14  67.11656  122.46180\n",
      "14        15  68.27967  116.08660\n",
      "15        16  71.09160  139.99750\n",
      "16        17  66.46100  129.50230\n",
      "17        18  68.64927  142.97330\n",
      "18        19  71.23033  137.90250\n",
      "19        20  67.13118  124.04490\n",
      "20        21  67.83379  141.28070\n",
      "21        22  68.87881  143.53920\n",
      "22        23  63.48115   97.90191\n",
      "23        24  68.42187  129.50270\n",
      "24        25  67.62804  141.85010\n",
      "25        26  67.20864  129.72440\n",
      "26        27  70.84235  142.42350\n",
      "27        28  67.49434  131.55020\n",
      "28        29  66.53401  108.33240\n",
      "29        30  65.44098  113.89220\n",
      "...      ...       ...        ...\n",
      "24970  24971  65.37753  126.61020\n",
      "24971  24972  67.49720  122.98440\n",
      "24972  24973  68.70055  123.28490\n",
      "24973  24974  71.32072  125.59280\n",
      "24974  24975  65.57216  123.71280\n",
      "24975  24976  66.19147  123.24460\n",
      "24976  24977  70.06322  115.41800\n",
      "24977  24978  67.24989  108.71780\n",
      "24978  24979  69.62400  141.58230\n",
      "24979  24980  66.78960  120.88630\n",
      "24980  24981  69.79922  154.43990\n",
      "24981  24982  66.30104  107.39010\n",
      "24982  24983  68.36249  118.72070\n",
      "24983  24984  63.77967  111.49110\n",
      "24984  24985  67.58699  127.72140\n",
      "24985  24986  69.71587  133.91260\n",
      "24986  24987  68.81291  120.81760\n",
      "24987  24988  68.86794  142.84940\n",
      "24988  24989  66.10137  103.38100\n",
      "24989  24990  70.11839  141.23700\n",
      "24990  24991  69.97767  125.36720\n",
      "24991  24992  71.91656  128.28400\n",
      "24992  24993  70.96218  146.19360\n",
      "24993  24994  66.19462  118.79740\n",
      "24994  24995  67.21126  127.66030\n",
      "24995  24996  69.50215  118.03120\n",
      "24996  24997  64.54826  120.19320\n",
      "24997  24998  64.69855  118.26550\n",
      "24998  24999  67.52918  132.26820\n",
      "24999  25000  68.87761  124.87420\n",
      "\n",
      "[25000 rows x 3 columns]\n"
     ]
    }
   ],
   "source": [
    "data=pd.read_csv(\"hw_25000.csv\")\n",
    "print(data)"
   ]
  },
  {
   "cell_type": "code",
   "execution_count": 122,
   "metadata": {},
   "outputs": [
    {
     "name": "stdout",
     "output_type": "stream",
     "text": [
      "Index(['Index', 'Height', 'Weight'], dtype='object')\n"
     ]
    }
   ],
   "source": [
    "data=pd.read_csv(\"hw_25000.csv\")\n",
    "print(data.columns)"
   ]
  },
  {
   "cell_type": "code",
   "execution_count": 123,
   "metadata": {},
   "outputs": [
    {
     "data": {
      "image/png": "[encoded data removed]",
      "text/plain": [
       "<Figure size 432x288 with 1 Axes>"
      ]
     },
     "metadata": {
      "needs_background": "light"
     },
     "output_type": "display_data"
    }
   ],
   "source": [
    "#Burada scatter plot yaptik\n",
    "plt.scatter(data.Height, data.Weight)\n",
    "plt.xlabel(\"Boy\")\n",
    "plt.ylabel(\"Kilo\")\n",
    "plt.show()"
   ]
  },
  {
   "cell_type": "markdown",
   "metadata": {},
   "source": [
    "# Tahminlemenin Yapılması"
   ]
  },
  {
   "cell_type": "code",
   "execution_count": 133,
   "metadata": {},
   "outputs": [],
   "source": [
    "from sklearn.linear_model import LinearRegression\n",
    "from sklearn.externals import joblib  \n",
    "from matplotlib import style\n",
    "\n"
   ]
  },
  {
   "cell_type": "code",
   "execution_count": 137,
   "metadata": {},
   "outputs": [
    {
     "ename": "ValueError",
     "evalue": "Expected 2D array, got scalar array instead:\narray=60.\nReshape your data either using array.reshape(-1, 1) if your data has a single feature or array.reshape(1, -1) if it contains a single sample.",
     "output_type": "error",
     "traceback": [
      "\u001b[1;31m---------------------------------------------------------------------------\u001b[0m",
      "\u001b[1;31mValueError\u001b[0m                                Traceback (most recent call last)",
      "\u001b[1;32m<ipython-input-137-90189b27c15d>\u001b[0m in \u001b[0;36m<module>\u001b[1;34m\u001b[0m\n\u001b[0;32m      5\u001b[0m \u001b[0mregression\u001b[0m\u001b[1;33m.\u001b[0m\u001b[0mfit\u001b[0m\u001b[1;33m(\u001b[0m\u001b[0mboy\u001b[0m\u001b[1;33m,\u001b[0m\u001b[0mkilo\u001b[0m\u001b[1;33m)\u001b[0m\u001b[1;33m\u001b[0m\u001b[1;33m\u001b[0m\u001b[0m\n\u001b[0;32m      6\u001b[0m \u001b[1;33m\u001b[0m\u001b[0m\n\u001b[1;32m----> 7\u001b[1;33m \u001b[0mprint\u001b[0m\u001b[1;33m(\u001b[0m\u001b[0mregression\u001b[0m\u001b[1;33m.\u001b[0m\u001b[0mpredict\u001b[0m\u001b[1;33m(\u001b[0m\u001b[1;36m60\u001b[0m\u001b[1;33m)\u001b[0m\u001b[1;33m)\u001b[0m\u001b[1;33m\u001b[0m\u001b[1;33m\u001b[0m\u001b[0m\n\u001b[0m\u001b[0;32m      8\u001b[0m \u001b[0mprint\u001b[0m\u001b[1;33m(\u001b[0m\u001b[0mregression\u001b[0m\u001b[1;33m.\u001b[0m\u001b[0mpredict\u001b[0m\u001b[1;33m(\u001b[0m\u001b[1;36m62\u001b[0m\u001b[1;33m)\u001b[0m\u001b[1;33m)\u001b[0m\u001b[1;33m\u001b[0m\u001b[1;33m\u001b[0m\u001b[0m\n\u001b[0;32m      9\u001b[0m \u001b[0mprint\u001b[0m\u001b[1;33m(\u001b[0m\u001b[0mregression\u001b[0m\u001b[1;33m.\u001b[0m\u001b[0mpredict\u001b[0m\u001b[1;33m(\u001b[0m\u001b[1;36m64\u001b[0m\u001b[1;33m)\u001b[0m\u001b[1;33m)\u001b[0m\u001b[1;33m\u001b[0m\u001b[1;33m\u001b[0m\u001b[0m\n",
      "\u001b[1;32mc:\\users\\fmsay\\miniconda3\\envs\\pythondata\\lib\\site-packages\\sklearn\\linear_model\\base.py\u001b[0m in \u001b[0;36mpredict\u001b[1;34m(self, X)\u001b[0m\n\u001b[0;32m    211\u001b[0m             \u001b[0mReturns\u001b[0m \u001b[0mpredicted\u001b[0m \u001b[0mvalues\u001b[0m\u001b[1;33m.\u001b[0m\u001b[1;33m\u001b[0m\u001b[1;33m\u001b[0m\u001b[0m\n\u001b[0;32m    212\u001b[0m         \"\"\"\n\u001b[1;32m--> 213\u001b[1;33m         \u001b[1;32mreturn\u001b[0m \u001b[0mself\u001b[0m\u001b[1;33m.\u001b[0m\u001b[0m_decision_function\u001b[0m\u001b[1;33m(\u001b[0m\u001b[0mX\u001b[0m\u001b[1;33m)\u001b[0m\u001b[1;33m\u001b[0m\u001b[1;33m\u001b[0m\u001b[0m\n\u001b[0m\u001b[0;32m    214\u001b[0m \u001b[1;33m\u001b[0m\u001b[0m\n\u001b[0;32m    215\u001b[0m     \u001b[0m_preprocess_data\u001b[0m \u001b[1;33m=\u001b[0m \u001b[0mstaticmethod\u001b[0m\u001b[1;33m(\u001b[0m\u001b[0m_preprocess_data\u001b[0m\u001b[1;33m)\u001b[0m\u001b[1;33m\u001b[0m\u001b[1;33m\u001b[0m\u001b[0m\n",
      "\u001b[1;32mc:\\users\\fmsay\\miniconda3\\envs\\pythondata\\lib\\site-packages\\sklearn\\linear_model\\base.py\u001b[0m in \u001b[0;36m_decision_function\u001b[1;34m(self, X)\u001b[0m\n\u001b[0;32m    194\u001b[0m         \u001b[0mcheck_is_fitted\u001b[0m\u001b[1;33m(\u001b[0m\u001b[0mself\u001b[0m\u001b[1;33m,\u001b[0m \u001b[1;34m\"coef_\"\u001b[0m\u001b[1;33m)\u001b[0m\u001b[1;33m\u001b[0m\u001b[1;33m\u001b[0m\u001b[0m\n\u001b[0;32m    195\u001b[0m \u001b[1;33m\u001b[0m\u001b[0m\n\u001b[1;32m--> 196\u001b[1;33m         \u001b[0mX\u001b[0m \u001b[1;33m=\u001b[0m \u001b[0mcheck_array\u001b[0m\u001b[1;33m(\u001b[0m\u001b[0mX\u001b[0m\u001b[1;33m,\u001b[0m \u001b[0maccept_sparse\u001b[0m\u001b[1;33m=\u001b[0m\u001b[1;33m[\u001b[0m\u001b[1;34m'csr'\u001b[0m\u001b[1;33m,\u001b[0m \u001b[1;34m'csc'\u001b[0m\u001b[1;33m,\u001b[0m \u001b[1;34m'coo'\u001b[0m\u001b[1;33m]\u001b[0m\u001b[1;33m)\u001b[0m\u001b[1;33m\u001b[0m\u001b[1;33m\u001b[0m\u001b[0m\n\u001b[0m\u001b[0;32m    197\u001b[0m         return safe_sparse_dot(X, self.coef_.T,\n\u001b[0;32m    198\u001b[0m                                dense_output=True) + self.intercept_\n",
      "\u001b[1;32mc:\\users\\fmsay\\miniconda3\\envs\\pythondata\\lib\\site-packages\\sklearn\\utils\\validation.py\u001b[0m in \u001b[0;36mcheck_array\u001b[1;34m(array, accept_sparse, accept_large_sparse, dtype, order, copy, force_all_finite, ensure_2d, allow_nd, ensure_min_samples, ensure_min_features, warn_on_dtype, estimator)\u001b[0m\n\u001b[0;32m    543\u001b[0m                     \u001b[1;34m\"Reshape your data either using array.reshape(-1, 1) if \"\u001b[0m\u001b[1;33m\u001b[0m\u001b[1;33m\u001b[0m\u001b[0m\n\u001b[0;32m    544\u001b[0m                     \u001b[1;34m\"your data has a single feature or array.reshape(1, -1) \"\u001b[0m\u001b[1;33m\u001b[0m\u001b[1;33m\u001b[0m\u001b[0m\n\u001b[1;32m--> 545\u001b[1;33m                     \"if it contains a single sample.\".format(array))\n\u001b[0m\u001b[0;32m    546\u001b[0m             \u001b[1;31m# If input is 1D raise error\u001b[0m\u001b[1;33m\u001b[0m\u001b[1;33m\u001b[0m\u001b[1;33m\u001b[0m\u001b[0m\n\u001b[0;32m    547\u001b[0m             \u001b[1;32mif\u001b[0m \u001b[0marray\u001b[0m\u001b[1;33m.\u001b[0m\u001b[0mndim\u001b[0m \u001b[1;33m==\u001b[0m \u001b[1;36m1\u001b[0m\u001b[1;33m:\u001b[0m\u001b[1;33m\u001b[0m\u001b[1;33m\u001b[0m\u001b[0m\n",
      "\u001b[1;31mValueError\u001b[0m: Expected 2D array, got scalar array instead:\narray=60.\nReshape your data either using array.reshape(-1, 1) if your data has a single feature or array.reshape(1, -1) if it contains a single sample."
     ]
    }
   ],
   "source": [
    "boy = data.Height.values.reshape(-1,1)\n",
    "kilo = data.Weight.values.reshape(-1,1)\n",
    "\n",
    "regression = LinearRegression()\n",
    "regression.fit(boy,kilo)\n",
    "\n",
    "print(regression.predict(60))\n",
    "print(regression.predict(62))\n",
    "print(regression.predict(64))\n",
    "print(regression.predict(66))\n",
    "print(regression.predict(68))\n",
    "print(regression.predict(70))\n",
    "\n",
    "print(data.columns)\n",
    "\n",
    "plt.scatter(data.Height,data.Weight)\n",
    "x = np.arange(min(data.Height),max(data.Height)).reshape(-1,1)\n",
    "plt.plot(x,regression.predict(x),color=\"red\")\n",
    "plt.xlabel(\"Boy\")\n",
    "plt.ylabel(\"Kilo\")\n",
    "plt.title(\"Simple Linear Regression Model\")\n",
    "plt.show()\n",
    "\n"
   ]
  },
  {
   "cell_type": "code",
   "execution_count": 144,
   "metadata": {},
   "outputs": [
    {
     "data": {
      "image/png": "[encoded data removed]",
      "text/plain": [
       "<Figure size 432x288 with 1 Axes>"
      ]
     },
     "metadata": {
      "needs_background": "light"
     },
     "output_type": "display_data"
    },
    {
     "name": "stdout",
     "output_type": "stream",
     "text": [
      "0.2528666917428809\n"
     ]
    }
   ],
   "source": [
    "boy = data.Height.values.reshape(-1,1)\n",
    "kilo = data.Weight.values.reshape(-1,1)\n",
    "\n",
    "regression = LinearRegression()\n",
    "regression.fit(boy,kilo)\n",
    "\n",
    "regression.predict([[60],[62], [64], [66], [68], [70]])\n",
    "\n",
    "plt.scatter(data.Height,data.Weight)\n",
    "x = np.arange(min(data.Height),max(data.Height)).reshape(-1,1)\n",
    "plt.plot(x,regression.predict(x),color=\"red\")\n",
    "plt.xlabel(\"Boy\")\n",
    "plt.ylabel(\"Kilo\")\n",
    "plt.title(\"Simple Linear Regression Model\")\n",
    "plt.show()\n",
    "print(r2_score(kilo,regression.predict(boy))) # burada algoritmanin dogruluk oranina bakmis oluyoruz."
   ]
  },
  {
   "cell_type": "code",
   "execution_count": 143,
   "metadata": {},
   "outputs": [
    {
     "name": "stdout",
     "output_type": "stream",
     "text": [
      "0.2528666917428809\n"
     ]
    }
   ],
   "source": [
    "from sklearn.metrics import r2_score # bu \"metrics\" isimli kutuphane ile Data nin yuzdelik olarak dogruluk orani olcuyoruz, \n",
    "                                    # yani \"suquar kare \" yani \"r2\" kullaniyoruz. \n",
    "    # score ne kadar 1 e yaklasirsa dogruluk orani o denli artiyor\n",
    "    # score un 1 olmasi demek algoritmanin şaşma olasiligi yok demek.\n",
    "    # goruldugu gibi burada (0.2528666917428809) karsimiza cikiyor \n",
    "    # yani elimizdeki data ya gore dogruluk orani 25% olarak veriyor\n",
    "print(r2_score(kilo,regression.predict(boy)))"
   ]
  },
  {
   "cell_type": "code",
   "execution_count": null,
   "metadata": {},
   "outputs": [],
   "source": []
  },
  {
   "cell_type": "code",
   "execution_count": null,
   "metadata": {},
   "outputs": [],
   "source": []
  },
  {
   "cell_type": "code",
   "execution_count": null,
   "metadata": {},
   "outputs": [],
   "source": []
  }
 ],
 "metadata": {
  "kernelspec": {
   "display_name": "Python 3",
   "language": "python",
   "name": "python3"
  },
  "language_info": {
   "codemirror_mode": {
    "name": "ipython",
    "version": 3
   },
   "file_extension": ".py",
   "mimetype": "text/x-python",
   "name": "python",
   "nbconvert_exporter": "python",
   "pygments_lexer": "ipython3",
   "version": "3.7.2"
  }
 },
 "nbformat": 4,
 "nbformat_minor": 2
}

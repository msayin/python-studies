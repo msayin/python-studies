{
 "cells": [
  {
   "cell_type": "markdown",
   "metadata": {},
   "source": [
    "# SECTION \n",
    "# PYTHON TEMEMLERI"
   ]
  },
  {
   "cell_type": "markdown",
   "metadata": {},
   "source": [
    "### DEGISKENLER"
   ]
  },
  {
   "cell_type": "code",
   "execution_count": null,
   "metadata": {},
   "outputs": [],
   "source": [
    "x =10 # integer"
   ]
  },
  {
   "cell_type": "code",
   "execution_count": null,
   "metadata": {},
   "outputs": [],
   "source": [
    "x= \"10\" # string"
   ]
  },
  {
   "cell_type": "code",
   "execution_count": null,
   "metadata": {},
   "outputs": [],
   "source": [
    "sayi =10 # integer"
   ]
  },
  {
   "cell_type": "code",
   "execution_count": null,
   "metadata": {},
   "outputs": [],
   "source": [
    "deger= \"10\" # string"
   ]
  },
  {
   "cell_type": "code",
   "execution_count": null,
   "metadata": {},
   "outputs": [],
   "source": [
    "print(deger+10) # string ile integer toplanamaz\n",
    "\n",
    "                # her eleman kendi içinde islem görür"
   ]
  },
  {
   "cell_type": "code",
   "execution_count": null,
   "metadata": {},
   "outputs": [],
   "source": [
    "#TC veya SSN veda Telefon numberlari \"1010203050\" (512 678..334) string dir. yani birer metinsel ifadelerdir.\n",
    "# bu nedenle matematiksel isleme tabi tutulamazlar"
   ]
  },
  {
   "cell_type": "code",
   "execution_count": null,
   "metadata": {},
   "outputs": [],
   "source": [
    "# float = ondalik sayi demek, ondalikli sayilarda nokta kullanilmak zorunda\n",
    "# ornegin: 10.0 \n"
   ]
  },
  {
   "cell_type": "code",
   "execution_count": null,
   "metadata": {},
   "outputs": [],
   "source": [
    "floatsayi = 10.0"
   ]
  },
  {
   "cell_type": "code",
   "execution_count": null,
   "metadata": {},
   "outputs": [],
   "source": [
    "print (type(floatsayi))# \"type\" degerin tipini gosterir"
   ]
  },
  {
   "cell_type": "markdown",
   "metadata": {},
   "source": [
    "### STRING"
   ]
  },
  {
   "cell_type": "code",
   "execution_count": null,
   "metadata": {},
   "outputs": [],
   "source": [
    "mesaj=\"Merhaba Dünya\"\n",
    "print(mesaj)"
   ]
  },
  {
   "cell_type": "markdown",
   "metadata": {},
   "source": [
    "# Metni parcalama\n",
    "### yani SUBSTRING"
   ]
  },
  {
   "cell_type": "code",
   "execution_count": null,
   "metadata": {
    "scrolled": true
   },
   "outputs": [],
   "source": [
    "mesaj=\"Merhaba Dünya\"\n",
    "print(mesaj[2])"
   ]
  },
  {
   "cell_type": "markdown",
   "metadata": {},
   "source": [
    "# dizi ve indexleri [ ] icinde gosteriyoruz"
   ]
  },
  {
   "cell_type": "code",
   "execution_count": null,
   "metadata": {},
   "outputs": [],
   "source": [
    "mesaj=\"Merhaba Dünya\"\n",
    "print(mesaj[2:5]) # 2 den 5 e kadar olani veriyor 5. index dahil degil"
   ]
  },
  {
   "cell_type": "code",
   "execution_count": null,
   "metadata": {},
   "outputs": [],
   "source": [
    "mesaj=\"Merhaba Dünya\"\n",
    "print(mesaj[2:]) # 2 den sonraki herseyi ver demek"
   ]
  },
  {
   "cell_type": "code",
   "execution_count": null,
   "metadata": {},
   "outputs": [],
   "source": [
    "mesaj=\"Merhaba Dünya\"\n",
    "print(mesaj[:5])# bu durumda 5 e kadar olan tum rakamlari veriyor\n",
    "# buna substing deniyor"
   ]
  },
  {
   "cell_type": "code",
   "execution_count": null,
   "metadata": {},
   "outputs": [],
   "source": [
    "# len fonksiyonu bize metnin veya degerin karerter index sayisinin toplamini gosterir"
   ]
  },
  {
   "cell_type": "code",
   "execution_count": null,
   "metadata": {},
   "outputs": [],
   "source": [
    "print(len(mesaj)) # yani \"merhaba dunya\" metninin 13 karekterden olustugunu soyluyor\n",
    "# \"merhaba dunya\" da 12 karekter var birde \"bosluk\" var. bosluklar da karekter, index olarak sayiliyor"
   ]
  },
  {
   "cell_type": "markdown",
   "metadata": {},
   "source": [
    "# LOWER ve UPPER fonksiyonu"
   ]
  },
  {
   "cell_type": "code",
   "execution_count": null,
   "metadata": {},
   "outputs": [],
   "source": [
    "# \"LOWER\" metnin karekterlerini kucuk \"UPPER\" ise buyuk yapar\n",
    "# program dilinde \"kucuk\" harflerle \"buyuk\" harfler ayni sey degildir.\n",
    "#m M ayni sey degil bunlara \"ascii cod u\" deniyor"
   ]
  },
  {
   "cell_type": "code",
   "execution_count": null,
   "metadata": {},
   "outputs": [],
   "source": [
    "print(mesaj.upper())"
   ]
  },
  {
   "cell_type": "code",
   "execution_count": null,
   "metadata": {},
   "outputs": [],
   "source": [
    "print (mesaj.lower())"
   ]
  },
  {
   "cell_type": "markdown",
   "metadata": {},
   "source": [
    "### REPLACE fonksiyonu"
   ]
  },
  {
   "cell_type": "code",
   "execution_count": null,
   "metadata": {},
   "outputs": [],
   "source": [
    "print(mesaj.replace(\"ü\",\"u\"))"
   ]
  },
  {
   "cell_type": "code",
   "execution_count": null,
   "metadata": {},
   "outputs": [],
   "source": [
    "print(mesaj.replace (\"a\",\"e\")) # \"a\" ile \"e\" ler yer degistirdi"
   ]
  },
  {
   "cell_type": "markdown",
   "metadata": {},
   "source": [
    "# SPLIT"
   ]
  },
  {
   "cell_type": "code",
   "execution_count": null,
   "metadata": {},
   "outputs": [],
   "source": [
    "bilgi = \"Fatih Sayin 44 Maras Turkey\""
   ]
  },
  {
   "cell_type": "code",
   "execution_count": null,
   "metadata": {},
   "outputs": [],
   "source": [
    "print(bilgi.split())"
   ]
  },
  {
   "cell_type": "code",
   "execution_count": null,
   "metadata": {},
   "outputs": [],
   "source": [
    "bilgi = \"Fatih;Sayin;44;Maras;Turkey\""
   ]
  },
  {
   "cell_type": "code",
   "execution_count": null,
   "metadata": {},
   "outputs": [],
   "source": [
    "print(bilgi.split())# burada arada bosluk olmadi icin hepsini bir kelime gibi goruyor"
   ]
  },
  {
   "cell_type": "code",
   "execution_count": null,
   "metadata": {},
   "outputs": [],
   "source": [
    "print(bilgi.split(\";\")) #burada ise aradaki \";\" gore ayir dedigimizde ona gore kelimelere ayiriyor"
   ]
  },
  {
   "cell_type": "code",
   "execution_count": null,
   "metadata": {},
   "outputs": [],
   "source": [
    "print(\"adi=\" + bilgi.split(\";\")[0]) # \"+\" iki tane string i yanyana getirmeye yariyor. Buna \"+\" operatoru deniyor"
   ]
  },
  {
   "cell_type": "code",
   "execution_count": null,
   "metadata": {},
   "outputs": [],
   "source": [
    "yeni_bilgi = \"  Fatih Sayin 44 Maras Turkey \""
   ]
  },
  {
   "cell_type": "code",
   "execution_count": null,
   "metadata": {},
   "outputs": [],
   "source": [
    "print(yeni_bilgi.strip()) # \"strip\" bastaki ve sondaki bosluklari atmaya yariyor"
   ]
  },
  {
   "cell_type": "code",
   "execution_count": null,
   "metadata": {},
   "outputs": [],
   "source": [
    "ad= input(\"Adiniz\") # kullanicidan bilgi toplamak icin kullanilan bir yapi"
   ]
  },
  {
   "cell_type": "code",
   "execution_count": null,
   "metadata": {},
   "outputs": [],
   "source": [
    "Soyad= input(\"Soyadiniz\")"
   ]
  },
  {
   "cell_type": "code",
   "execution_count": null,
   "metadata": {},
   "outputs": [],
   "source": [
    "sayi1= input(\"sayi 1=?\")"
   ]
  },
  {
   "cell_type": "code",
   "execution_count": null,
   "metadata": {},
   "outputs": [],
   "source": [
    "sayi2 = input(\"sayi 2=?\")"
   ]
  },
  {
   "cell_type": "code",
   "execution_count": null,
   "metadata": {},
   "outputs": [],
   "source": [
    "print(sayi1+sayi2)"
   ]
  },
  {
   "cell_type": "code",
   "execution_count": null,
   "metadata": {},
   "outputs": [],
   "source": [
    "# bu sayilar \"intiger\" degilde \"string\" olarak yazildigi icin bu yanilari yan yana yaziyor, yani matematiksel bir isleme tabi tutmuyor\n",
    "# bunun icin \"string\"leri intiger cevirmemiz lazim, yani tip donusumu yapmal lazim"
   ]
  },
  {
   "cell_type": "code",
   "execution_count": null,
   "metadata": {},
   "outputs": [],
   "source": [
    "print(int(sayi1)+ int(sayi2)) # tip donusumu yapildigi icin bunlari sayi olarak angiladi ve 30 gosterdi"
   ]
  },
  {
   "cell_type": "markdown",
   "metadata": {},
   "source": [
    "# SECTION \n",
    "\n",
    "# PYTHON VERI YAPILARI"
   ]
  },
  {
   "cell_type": "markdown",
   "metadata": {},
   "source": [
    " ### LISTERLER"
   ]
  },
  {
   "cell_type": "code",
   "execution_count": null,
   "metadata": {},
   "outputs": [],
   "source": [
    "# Listeler [ ] parantezlere yaziliyor ve sirali ve indexli bir yapiya sahipler\n",
    "my_list = [1,2,3]\n",
    "list =[1,\"hello\",4.3]"
   ]
  },
  {
   "cell_type": "code",
   "execution_count": null,
   "metadata": {},
   "outputs": [],
   "source": [
    "# liste icine baska listelerde yazilabilir (nested list)\n",
    "nested_list=[\"mous\", [8,4,6], ['a']]"
   ]
  },
  {
   "cell_type": "code",
   "execution_count": null,
   "metadata": {},
   "outputs": [],
   "source": [
    "# bu sekilde tek tek yazmak mantikli degil\n",
    "\n",
    "ogrenci1= \"Sinan\"\n",
    "ogrenci2= \"Semih\"\n",
    "ogrenci3= \"Krem\""
   ]
  },
  {
   "cell_type": "code",
   "execution_count": null,
   "metadata": {},
   "outputs": [],
   "source": [
    "print(ogrenci1)\n",
    "print(ogrenci2)\n",
    "print(ogrenci3)"
   ]
  },
  {
   "cell_type": "code",
   "execution_count": null,
   "metadata": {},
   "outputs": [],
   "source": [
    "# bu sekilde bir ogrenciler listesi olusturup tum ogrencileri oraya eklemek kolay olan\n",
    "\n",
    "ogrenciler = [\"Sinan\",\"Semih\",\"Krem\"]"
   ]
  },
  {
   "cell_type": "code",
   "execution_count": null,
   "metadata": {},
   "outputs": [],
   "source": [
    "print (ogrenciler)"
   ]
  },
  {
   "cell_type": "code",
   "execution_count": null,
   "metadata": {},
   "outputs": [],
   "source": [
    "print(ogrenciler[2])"
   ]
  },
  {
   "cell_type": "code",
   "execution_count": null,
   "metadata": {},
   "outputs": [],
   "source": [
    "#listeye yeni bir ogrenci eklemek icin \"append\" kullaniyoruz\n",
    "ogrenciler.append(\"Ahmet\")"
   ]
  },
  {
   "cell_type": "code",
   "execution_count": null,
   "metadata": {},
   "outputs": [],
   "source": [
    "print(ogrenciler)"
   ]
  },
  {
   "cell_type": "code",
   "execution_count": null,
   "metadata": {},
   "outputs": [],
   "source": [
    "#listeden bir ogrenci silmek icin \"remove\" kullaniyoruz\n",
    "\n",
    "ogrenciler.remove(\"Semih\") "
   ]
  },
  {
   "cell_type": "code",
   "execution_count": null,
   "metadata": {},
   "outputs": [],
   "source": [
    "print(ogrenciler)"
   ]
  },
  {
   "cell_type": "code",
   "execution_count": null,
   "metadata": {},
   "outputs": [],
   "source": [
    "#ogrenci listesindeki intexte isim degisikligi yapmak icin [indec] numarasini yaziyoruz \n",
    "\n",
    "ogrenciler[0]=\"Ayse\" "
   ]
  },
  {
   "cell_type": "code",
   "execution_count": null,
   "metadata": {},
   "outputs": [],
   "source": [
    "print(ogrenciler)"
   ]
  },
  {
   "cell_type": "markdown",
   "metadata": {},
   "source": [
    "# Diger fonksiyonlar"
   ]
  },
  {
   "cell_type": "code",
   "execution_count": null,
   "metadata": {},
   "outputs": [],
   "source": [
    "#liste\n",
    "sehirler=[\"Ankara\",\"Istanbul\",\"Izmir\"] \n",
    "print(sehirler)"
   ]
  },
  {
   "cell_type": "code",
   "execution_count": null,
   "metadata": {},
   "outputs": [],
   "source": [
    "# \"clear\" fonksiyonunun kullanimi\n",
    "# clear dedigimde \"none\" donecek cunku sehirler listesini temizleyecek\n",
    "print(sehirler.clear())"
   ]
  },
  {
   "cell_type": "code",
   "execution_count": null,
   "metadata": {},
   "outputs": [],
   "source": [
    "# \"count\" fonksiyonunun kullanilisi\n",
    "sehirler2=[\"Samsun\",\"Maras\",\"Erzurum\",\"Samsun\"] \n",
    "print(\"Samsun'nun sayisi=\" +str (sehirler2.count(\"Samsun\")))"
   ]
  },
  {
   "cell_type": "code",
   "execution_count": null,
   "metadata": {},
   "outputs": [],
   "source": [
    "# \"index\" fonksiyonunun kullanilisi. 2 tane \"samsun\" olmasini ragmen index \"0\" gosteriyor. cunku intex saymaya ilk bastan basliyor\n",
    "print(\"Samsun index =\" +str(sehirler2.index(\"Samsun\")))"
   ]
  },
  {
   "cell_type": "code",
   "execution_count": null,
   "metadata": {},
   "outputs": [],
   "source": [
    "# \"pop\" fonksiyonun kullanimi burada index e gore sectigimiz index teki elamani siliyoruz\n",
    "sehirler2.pop(1)\n",
    "print(sehirler2)"
   ]
  },
  {
   "cell_type": "code",
   "execution_count": null,
   "metadata": {},
   "outputs": [],
   "source": [
    "# \"insert\" fonksiyonunun kullanilisi. hangi index te degisiklik yapacaksak onu belirtiyoruz\n",
    "sehirler2.insert(0, \"Trabzon\")\n",
    "print(sehirler2)"
   ]
  },
  {
   "cell_type": "code",
   "execution_count": null,
   "metadata": {},
   "outputs": [],
   "source": [
    "# \"reverse\" fonksiyonunun \"terse cevirme\" kullanimi\n",
    "sehirler2.reverse()"
   ]
  },
  {
   "cell_type": "code",
   "execution_count": null,
   "metadata": {},
   "outputs": [],
   "source": [
    "# Burada sehirleri teresinden yazdiriyor\n",
    "print(sehirler2) "
   ]
  },
  {
   "cell_type": "code",
   "execution_count": null,
   "metadata": {},
   "outputs": [],
   "source": [
    "# diziler \"referans tip\" tir. yani \"array\"lar referansa tiptir.\n",
    "# esitleme yapildiginda bellekte ayni yere gidiyor. Yani kopya olusturulmuyor."
   ]
  },
  {
   "cell_type": "code",
   "execution_count": null,
   "metadata": {},
   "outputs": [],
   "source": [
    "# \"Copy\" fonsiyonunun calisma mantigi\n",
    "# goruldugu gibi yukardaki \"sehirler2\" oldugu gibi kopyalanmis oldu\n",
    "sehirler3 = sehirler2.copy()\n",
    "print(sehirler3)"
   ]
  },
  {
   "cell_type": "code",
   "execution_count": null,
   "metadata": {},
   "outputs": [],
   "source": [
    "# \"Extend\" fonksiyonunun calisma mantigi. yani elimizdeki 2 diziyi yan yana bir araya getirip genisletiyor\n",
    "sehirler.extend(sehirler3)\n",
    "print(sehirler)"
   ]
  },
  {
   "cell_type": "code",
   "execution_count": null,
   "metadata": {},
   "outputs": [],
   "source": [
    "# \"sort\" fonsiyonunun kullanimi. Alfabetik olarak yada sayisal olarak listelemek icin kullaniliyor.\n",
    "# sort A dan Z ye siraliyor\n",
    "sehirler.sort()\n",
    "print(sehirler)"
   ]
  },
  {
   "cell_type": "code",
   "execution_count": null,
   "metadata": {},
   "outputs": [],
   "source": [
    "# \"reverse\" Z den A ya siraliyor. Ornekte goruldugu gibi\n",
    "sehirler.reverse()\n",
    "print(sehirler)"
   ]
  },
  {
   "cell_type": "raw",
   "metadata": {},
   "source": []
  },
  {
   "cell_type": "markdown",
   "metadata": {},
   "source": [
    "# TUPLE"
   ]
  },
  {
   "cell_type": "code",
   "execution_count": null,
   "metadata": {},
   "outputs": [],
   "source": [
    "# \"Tuple\" lar listelere benzer. Tek farki listelerde elemanlari degistirebiliyoruz.\n",
    "# Tuple lar da degistirmek soz konusu degildir.\n",
    "# ileride uzerinde degisiklik yapmayacagimiz elamanlari \"Tuple\" ile calisabiliyoruz\n"
   ]
  },
  {
   "cell_type": "code",
   "execution_count": null,
   "metadata": {},
   "outputs": [],
   "source": [
    "# Tuple lari normal () icinde yaziyoruz\n",
    "# Tuple \"intiger\" ve \"string\" birlikte olabilir"
   ]
  },
  {
   "cell_type": "code",
   "execution_count": null,
   "metadata": {},
   "outputs": [],
   "source": [
    "\n",
    "tuple_list = ()\n",
    "list =[]\n",
    "print (type(tuple_list))\n",
    "print(type(list))"
   ]
  },
  {
   "cell_type": "code",
   "execution_count": null,
   "metadata": {},
   "outputs": [],
   "source": [
    "tuple_list2 = (2,4,6, \"Ankara\")\n",
    "list2 =[2,4,6, \"Ankara\"]\n",
    "print(tuple_list2)\n",
    "print(list2)"
   ]
  },
  {
   "cell_type": "code",
   "execution_count": null,
   "metadata": {},
   "outputs": [],
   "source": [
    "# ic ice liste ve tuple elamanlari olusturulabilir\n",
    "tuple_list2 = (2,4,6, \"Ankara\",(2,3,4))\n",
    "list2 =[2,4,6, \"Ankara\", [3,4,5]]\n",
    "print(tuple_list2)\n",
    "print(list2)"
   ]
  },
  {
   "cell_type": "code",
   "execution_count": null,
   "metadata": {},
   "outputs": [],
   "source": [
    "print(len(tuple_list2))\n",
    "print(len(list2))"
   ]
  },
  {
   "cell_type": "code",
   "execution_count": null,
   "metadata": {},
   "outputs": [],
   "source": [
    "#listede \"0\" index i 6 olarak degistirdi\n",
    "list2[0]=6\n",
    "print(list2)"
   ]
  },
  {
   "cell_type": "code",
   "execution_count": null,
   "metadata": {},
   "outputs": [],
   "source": [
    "# goruldugu gibi tuple da degisime musade edilmedi.\n",
    "# TypeError: 'tuple' object does not support item assignment\n",
    "# \"tuple\" lar read only\n",
    "\n",
    "tuple_list2[0]=6\n",
    "print(tuple_list2)"
   ]
  },
  {
   "cell_type": "code",
   "execution_count": null,
   "metadata": {},
   "outputs": [],
   "source": [
    "# sondan bir index ulasmak istedigimizde rakamin indexinin onune (-) isareti koyariz\n",
    "#ornegin\n",
    "print(tuple_list2[-2])\n",
    "print(list2[-3])"
   ]
  },
  {
   "cell_type": "code",
   "execution_count": null,
   "metadata": {},
   "outputs": [],
   "source": [
    "# \"slince\" fonksiyonunun kullanimi\n",
    "print(tuple_list2[1:2])\n",
    "print(list2[1:2])"
   ]
  },
  {
   "cell_type": "code",
   "execution_count": null,
   "metadata": {},
   "outputs": [],
   "source": [
    "# burda goruldugu gibi direk \"Fatih\" yazdi.\n",
    "tuple_deger=(\"Fatih\")\n",
    "print(tuple_deger)"
   ]
  },
  {
   "cell_type": "code",
   "execution_count": null,
   "metadata": {},
   "outputs": [],
   "source": [
    "# tek elamanli bir degerin tuple oldugunu algilamas icin degerden sonra (,) koymak lazim. \n",
    "tuple_deger=(\"Fatih\",)\n",
    "print(type(tuple_deger))"
   ]
  },
  {
   "cell_type": "code",
   "execution_count": null,
   "metadata": {},
   "outputs": [],
   "source": []
  },
  {
   "cell_type": "markdown",
   "metadata": {},
   "source": [
    "# SET ile calismak"
   ]
  },
  {
   "cell_type": "code",
   "execution_count": null,
   "metadata": {},
   "outputs": [],
   "source": [
    "# Set listelere benzer\n",
    "# en onemli ozelligi indexsiz ve sirasiz elamanlardan olusur\n",
    "# veri tekrari soz konusu olmaz. Tum elemanlar essizdir (unique)\n",
    "# bu veri yapisi performansli bir data saglar\n",
    "# set ler { } icine yazilir"
   ]
  },
  {
   "cell_type": "code",
   "execution_count": null,
   "metadata": {},
   "outputs": [],
   "source": [
    "# burada sirali bir cikti alamadik cunku \"python\" bunu kendine gore bir algoritmayla siraliyor\n",
    "# \"tuple\" da oldugu gibi istedigimiz indexi yazip ulasamiyoruz. cunku cikti aninda yerleri degisebiliyor.\n",
    "\n",
    "studentset = {\"Sinan\", \"Semih\", \"Krem\",\"Fatih\"}\n",
    "print(studentset)"
   ]
  },
  {
   "cell_type": "code",
   "execution_count": null,
   "metadata": {},
   "outputs": [],
   "source": [
    "# \"iterate\"= yenilemek, tekrarlamak\n",
    "# Ancak bir dongu yazarak istenen elemana ulasilabilir.\"for\" gibi\n",
    "\n",
    "for student in studentset:\n",
    "    print(student)"
   ]
  },
  {
   "cell_type": "code",
   "execution_count": null,
   "metadata": {},
   "outputs": [],
   "source": [
    "print(\"Krem\" in studentset)"
   ]
  },
  {
   "cell_type": "code",
   "execution_count": null,
   "metadata": {},
   "outputs": [],
   "source": [
    "# python kucuk - buyuk harf duyarliligindan dolayi listedeki isimdeki bir harfin \n",
    "#fakli yazilmasini bile algiliyor ve var olan ismi harf hatasindan dolayi gostermiyor.\n",
    "\n",
    "print(\"krem\" in studentset)"
   ]
  },
  {
   "cell_type": "code",
   "execution_count": null,
   "metadata": {},
   "outputs": [],
   "source": [
    "if \"Krem\" in studentset:\n",
    "    print(\"listede var\")"
   ]
  },
  {
   "cell_type": "code",
   "execution_count": null,
   "metadata": {},
   "outputs": [],
   "source": [
    "# setlerde listede var olan elemani degistiremiyorsunuz\n",
    "# Ancak yeni bir eleman atayabiliyorsunuz\n",
    "\n",
    "studentset.add(\"Ayse\")\n",
    "print(studentset)\n"
   ]
  },
  {
   "cell_type": "code",
   "execution_count": null,
   "metadata": {},
   "outputs": [],
   "source": [
    "# \"update\" yaparakta listeye eleman eklene bilir\n",
    "\n",
    "studentset.update([\"Dato\",\"Nino\"])\n",
    "print(studentset)"
   ]
  },
  {
   "cell_type": "code",
   "execution_count": null,
   "metadata": {},
   "outputs": [],
   "source": [
    "# elaman silmek icin \"remove\" kullaniyoruz\n",
    "print(len(studentset))"
   ]
  },
  {
   "cell_type": "code",
   "execution_count": null,
   "metadata": {},
   "outputs": [],
   "source": [
    "# elaman silmek icin \"remove\" kullaniyoruz\n",
    "studentset.remove(\"Fatih\")\n",
    "print(studentset)"
   ]
  },
  {
   "cell_type": "code",
   "execution_count": null,
   "metadata": {},
   "outputs": [],
   "source": [
    "# \"remove\" ile silmeye calistigimiz elemani bulamayinca hata veriyor. \n",
    "#fatih ismini silmistik, tekrar silmek istedigimizde bulamadi ve hata verdi\n",
    "#KeyError: 'Fatih'\n",
    "studentset.remove(\"Fatih\")\n",
    "print(studentset)"
   ]
  },
  {
   "cell_type": "code",
   "execution_count": null,
   "metadata": {},
   "outputs": [],
   "source": [
    "# \"remove\" ile silmeye calistigimiz elemani bulamayinca hata veriyor\n",
    "# ancak \"discard\" yazarsak o da remove gibi siler ve elamani bulamayincada hata vermez\n",
    "studentset.discard(\"Fatih\")\n",
    "print(studentset)"
   ]
  },
  {
   "cell_type": "code",
   "execution_count": null,
   "metadata": {},
   "outputs": [],
   "source": [
    "# \"pop\" foksiyorunun set te kullanilisi\n",
    "# \"pop\" sirali degil rast gele siliyor bu nedenle kullanmayiz\n",
    "\n",
    "studentset.pop()\n",
    "print(studentset)"
   ]
  },
  {
   "cell_type": "code",
   "execution_count": null,
   "metadata": {},
   "outputs": [],
   "source": [
    "# \"Clear\" fonksiyonunun kullanilisi\n",
    "# clear \"set\" in icini siliyor \"set\" in kendisini degil.\n",
    "# yani biz odayi temizlerken odanin icindeki kirleri atariz odayi degil\n",
    "# ornektede oldugu gibi \"set\" i bosaltti\n",
    "\n",
    "studentset.clear()\n",
    "print(studentset)"
   ]
  },
  {
   "cell_type": "code",
   "execution_count": null,
   "metadata": {},
   "outputs": [],
   "source": [
    "# \"del\" fonksiyonunun kullanilisi\n",
    "# \"set\" ten tamamen kurtulmak icin \"del\" fonksiyonu kullanilir\n",
    "# NameError: name 'studentset' is not defined \"set\"i yok etti\n",
    "del studentset\n",
    "print(studentset)"
   ]
  },
  {
   "cell_type": "code",
   "execution_count": null,
   "metadata": {},
   "outputs": [],
   "source": [
    "# \"Set Union\" kullanilisi\n",
    "# \"|\" buna pipe isareti deniyor. yani borudan geliyor\n",
    "setA = {1,2,3,4,5}\n",
    "setB = {1,3,4,6,7,8}\n",
    "print(setA | setB)"
   ]
  },
  {
   "cell_type": "code",
   "execution_count": null,
   "metadata": {},
   "outputs": [],
   "source": [
    "#\"union\" baska bir kullanimi da bu sekilde\n",
    "print(setA.union(setB))"
   ]
  },
  {
   "cell_type": "code",
   "execution_count": null,
   "metadata": {},
   "outputs": [],
   "source": [
    "# \"intersection\" kesisim foksiyonunun kullanilimi\n",
    "# iki set arasina \"&\" isareti konularak yapiliyor\n",
    "setA = {1,2,3,4,5}\n",
    "setB = {1,3,4,6,7,8}\n",
    "print(setA & setB)"
   ]
  },
  {
   "cell_type": "code",
   "execution_count": null,
   "metadata": {},
   "outputs": [],
   "source": [
    "# \"intersection\" fonksiyonunun bir baska kullanimi ise bu sekilde\n",
    "print(setA.intersection(setB))"
   ]
  },
  {
   "cell_type": "code",
   "execution_count": null,
   "metadata": {},
   "outputs": [],
   "source": [
    "# \"differece\" fonsiyonunun kullanimi\n",
    "# \"setA\" nin \"setB\" farki (2,5)\n",
    "setA = {1,2,3,4,5}\n",
    "setB = {1,3,4,6,7,8}\n",
    "print(setA - setB)"
   ]
  },
  {
   "cell_type": "code",
   "execution_count": null,
   "metadata": {},
   "outputs": [],
   "source": [
    "# \"difference\" fonksiyonunun bir baska kullanimi ise bu sekilde\n",
    "# \"setB\" nin \"setA\" farki (8,6,7)\n",
    "print(setB.difference(setA))"
   ]
  },
  {
   "cell_type": "code",
   "execution_count": null,
   "metadata": {},
   "outputs": [],
   "source": [
    "# \"symmetric_difference\" \"setA\" ve \"setB\" nin simetrik olarak fraklarini ortya cikartiyor\n",
    "# \" ^\" bu isaret icin turkce klavyede shift 3 bastiktan sonra bosluk tusuna bastiginizda gosterir\n",
    "setA = {1,2,3,4,5}\n",
    "setB = {1,3,4,6,7,8}\n",
    "print(setA ^setB)"
   ]
  },
  {
   "cell_type": "code",
   "execution_count": null,
   "metadata": {},
   "outputs": [],
   "source": [
    "# \"symmetric_difference\" fonksiyonunun bir baska kullanimi ise bu sekilde\n",
    "print(setA.symmetric_difference(setB))"
   ]
  },
  {
   "cell_type": "markdown",
   "metadata": {},
   "source": [
    "# SOZLUKLER - DICTIONARY"
   ]
  },
  {
   "cell_type": "code",
   "execution_count": null,
   "metadata": {},
   "outputs": [],
   "source": [
    "# dictionary aynen set gibi sirasiz veri tutuyor\n",
    "# Gunluk hayattaki sozlukler gibi dusunebilirsniz\n",
    "# dictionary da {} parantez kullaniyoruz anacak setten farkli olarak bir \"key\" degeriyle birlikte dukkaniyoruz\n",
    "# \"key\" degere ornek : bir deger yazdiktan sonra (:) iki nokta koyuyoruz ve karsisindaki degeri yaziyoruz\n"
   ]
  },
  {
   "cell_type": "code",
   "execution_count": null,
   "metadata": {},
   "outputs": [],
   "source": [
    "my_dict= {\"book\": \"kitap\", \"table\": \"masa\"}\n",
    "print(my_dict)"
   ]
  },
  {
   "cell_type": "code",
   "execution_count": null,
   "metadata": {},
   "outputs": [],
   "source": [
    "# sozlukle ilgili bir degere ulasip onu degistirmek istiyorsaniz, ilk once o sozlukteki key e ulasmaniz lazim\n",
    "my_dict[\"book\"]= \"kitap 1\"\n",
    "print (my_dict)"
   ]
  },
  {
   "cell_type": "code",
   "execution_count": null,
   "metadata": {},
   "outputs": [],
   "source": [
    "# \"dictinary\"ya yeni bir deger atamak icin \n",
    "my_dict [\"pencil\"] = \"kalem\"\n",
    "print(my_dict)"
   ]
  },
  {
   "cell_type": "code",
   "execution_count": null,
   "metadata": {},
   "outputs": [],
   "source": [
    "# \n",
    "my_dict2 = dict(kitap=\"book\", masa=\"table\")\n",
    "print(my_dict2)"
   ]
  },
  {
   "cell_type": "code",
   "execution_count": null,
   "metadata": {},
   "outputs": [],
   "source": [
    "# \"delete\" fonksiyonun kullanilisi\n",
    "del(my_dict[\"book\"])\n",
    "print(my_dict)"
   ]
  },
  {
   "cell_type": "markdown",
   "metadata": {},
   "source": [
    "# SECTION \n",
    "\n",
    "# CONDITIONAL DURUMLAR= ŞART YAPILARIYLA  ÇALIŞMAK"
   ]
  },
  {
   "cell_type": "markdown",
   "metadata": {},
   "source": [
    "# Karar yapıları"
   ]
  },
  {
   "cell_type": "code",
   "execution_count": null,
   "metadata": {},
   "outputs": [],
   "source": [
    "num = 3.4\n",
    "\n",
    "if num > 0:    # if num > 0: \"0:\" sifirdirdan sonra \":\" iki nokta var bu block yapilar demek\n",
    "    print(\"positive number\") # print ten once bir bosluk var buna \"indentation\" girinti demek\n",
    "elif num == 0:\n",
    "    print(\"Zero\")\n",
    "else: \n",
    "    print(\"Negative number\")"
   ]
  },
  {
   "cell_type": "code",
   "execution_count": null,
   "metadata": {},
   "outputs": [],
   "source": [
    "sayi1=10\n",
    "sayi2=20\n",
    "\n",
    "if sayi1>sayi2:\n",
    "    print(\"birşey\")\n",
    "    print (\"birşey daha\")\n",
    "print (\"başka birşey\")\n",
    "    "
   ]
  },
  {
   "cell_type": "code",
   "execution_count": null,
   "metadata": {},
   "outputs": [],
   "source": [
    "sayi1=10\n",
    "sayi2=20\n",
    "\n",
    "if sayi1<sayi2:\n",
    "    print(\"birşey\")\n",
    "    print (\"birşey daha\")\n",
    "print (\"başka birşey\")"
   ]
  },
  {
   "cell_type": "code",
   "execution_count": null,
   "metadata": {},
   "outputs": [],
   "source": [
    "sayi1=10\n",
    "sayi2=20\n",
    "\n",
    "if sayi1==sayi2: # esit esit\n",
    "    print(\"birşey\")\n",
    "    print (\"birşey daha\")\n",
    "print (\"başka birşey\")"
   ]
  },
  {
   "cell_type": "code",
   "execution_count": null,
   "metadata": {},
   "outputs": [],
   "source": [
    "sayi1=10\n",
    "sayi2=20\n",
    "\n",
    "if sayi1>sayi2:\n",
    "    print(\"birşey\")\n",
    "    print (\"birşey daha\")\n",
    "    print()"
   ]
  },
  {
   "cell_type": "code",
   "execution_count": null,
   "metadata": {},
   "outputs": [],
   "source": [
    "# Recap Demo (yeniden, tekrar)"
   ]
  },
  {
   "cell_type": "code",
   "execution_count": null,
   "metadata": {},
   "outputs": [],
   "source": [
    "lights=[\"red\",\"yellow\",\"green\"]\n",
    "currentlight = lights[0]\n",
    "print(currentlight)"
   ]
  },
  {
   "cell_type": "code",
   "execution_count": null,
   "metadata": {},
   "outputs": [],
   "source": [
    "if currentlight== \"red\":\n",
    "    print(\"STOP!\")"
   ]
  },
  {
   "cell_type": "code",
   "execution_count": null,
   "metadata": {},
   "outputs": [],
   "source": [
    "if currentlight== \"yellow\":\n",
    "    print(\"READY!\")"
   ]
  },
  {
   "cell_type": "code",
   "execution_count": null,
   "metadata": {},
   "outputs": [],
   "source": [
    "if currentlight== \"green\":\n",
    "    print(\"GO!\")"
   ]
  },
  {
   "cell_type": "code",
   "execution_count": null,
   "metadata": {},
   "outputs": [],
   "source": [
    "# \"if\" fonksiyonunun kullanilisi\n",
    "\n",
    "lights=[\"red\",\"yellow\",\"green\"]\n",
    "\n",
    "currentlight = lights[2]\n",
    "\n",
    "print(currentlight)\n",
    "\n",
    "if currentlight== \"red\":\n",
    "    print(\"STOP!\")\n",
    "elif currentlight== \"yellow\":\n",
    "    print(\"READY!\")\n",
    "elif currentlight== \"green\":\n",
    "    print(\"GO!\")"
   ]
  },
  {
   "cell_type": "code",
   "execution_count": null,
   "metadata": {},
   "outputs": [],
   "source": [
    "# \"else\" fonksiyonunun kullanilisi\n",
    "# \"else\" te konul her ne olursa olsun gec\n",
    "\n",
    "lights=[\"red\",\"yellow\",\"pink\"]\n",
    "\n",
    "currentlight = lights[2]\n",
    "\n",
    "print(currentlight)\n",
    "\n",
    "if currentlight== \"red\":\n",
    "    print(\"STOP!\")\n",
    "elif currentlight== \"yellow\":\n",
    "    print(\"READY!\")\n",
    "else:\n",
    "    print(\"GO!\")"
   ]
  },
  {
   "cell_type": "markdown",
   "metadata": {},
   "source": [
    "# SECTION \n",
    "\n",
    "# DONGULERLE ÇALIŞMAK"
   ]
  },
  {
   "cell_type": "markdown",
   "metadata": {},
   "source": [
    "# \"for\" dongusu"
   ]
  },
  {
   "cell_type": "code",
   "execution_count": null,
   "metadata": {},
   "outputs": [],
   "source": [
    "#Benzer islemleri belirli bir sarta gore tekrarlamak icin kullanilir\n",
    "# Donguler icindeki print grintili degilde ilk bastan basliyorsa o dongu ile alakali degil\n",
    "# Eger pring donguler icinde ice dogru bir tap ilerden yazilmisa dongulerle alakali\n",
    "# Donguler programciligin anasi"
   ]
  },
  {
   "cell_type": "code",
   "execution_count": null,
   "metadata": {},
   "outputs": [],
   "source": [
    "sehirler = [\"Ankara\", \"Istanbul\", \"Izmir\"]\n",
    "print(sehirler)"
   ]
  },
  {
   "cell_type": "code",
   "execution_count": null,
   "metadata": {},
   "outputs": [],
   "source": [
    "for sehir in sehirler:\n",
    "    print(sehir)"
   ]
  },
  {
   "cell_type": "code",
   "execution_count": null,
   "metadata": {},
   "outputs": [],
   "source": [
    "for sehir in sehirler:\n",
    "    print(sehir[0:1]) #substring yapmak istedigimizde [] parantez icinde yaziyoruz\n",
    "                    # burada sehirlerin ilk harfini al demis oluyoruz"
   ]
  },
  {
   "cell_type": "code",
   "execution_count": null,
   "metadata": {},
   "outputs": [],
   "source": [
    "# burada sehirlerin ilk 3 harfini al demis oluyoruz\n",
    "for sehir in sehirler:\n",
    "    print(sehir[0:3]) "
   ]
  },
  {
   "cell_type": "code",
   "execution_count": null,
   "metadata": {},
   "outputs": [],
   "source": [
    "# burada sehirlere kod yazdirabiliyoruz\n",
    "for sehir in sehirler:\n",
    "    print(sehir + \" için kod = \" + sehir[0:3]) "
   ]
  },
  {
   "cell_type": "code",
   "execution_count": null,
   "metadata": {},
   "outputs": [],
   "source": [
    "# \"!=\" farkli ise alamina yani eşit eşit  degilse anlamina geliyor. Bu durumda da ankaranin disindaki sehirleri yazdiriyor\n",
    "for sehir in sehirler:\n",
    "    if sehir != \"Ankara\":\n",
    "            print(sehir + \" için kod = \" + sehir[0:3]) "
   ]
  },
  {
   "cell_type": "code",
   "execution_count": null,
   "metadata": {},
   "outputs": [],
   "source": [
    "# Burada ankara yi sarta bagladigimiz icin sadece ankarayi yazdi\n",
    "for sehir in sehirler:\n",
    "    if sehir == \"Ankara\":\n",
    "            print(sehir + \" için kod = \" + sehir[0:3]) "
   ]
  },
  {
   "cell_type": "code",
   "execution_count": null,
   "metadata": {},
   "outputs": [],
   "source": [
    "# \"indentation\" yani girinti hangisi donguden bir tap ilerde ise onun icin calisiyor\n",
    "for sehir in sehirler:\n",
    "    if sehir == \"Ankara\":\n",
    "        print(sehir + \" için kod = \" + sehir[0:3]) \n",
    "        print(\"*******\") # burada bu print \"for\" icin calisti ve ankara icin **** koydu"
   ]
  },
  {
   "cell_type": "code",
   "execution_count": null,
   "metadata": {},
   "outputs": [],
   "source": [
    "# \"indentation\" yani girinti hangisi donguden bir tap ilerde ise onun icin calisiyor\n",
    "for sehir in sehirler:\n",
    "    if sehir == \"Ankara\":\n",
    "        print(sehir + \" için kod = \" + sehir[0:3]) \n",
    "    print(\"*******\") # burada bu print \"if\" icin calisti ve tum sehirler icin **** koydu"
   ]
  },
  {
   "cell_type": "markdown",
   "metadata": {},
   "source": [
    "# \"while\" dongusu"
   ]
  },
  {
   "cell_type": "code",
   "execution_count": null,
   "metadata": {},
   "outputs": [],
   "source": [
    "# \"while\" dongusude \"for\" gibi belli sarti saglayana kadar donduruyor\n",
    "# \"for\" ile aynidir. yazi yazilimcilar while kullaniyor.\n",
    "# \"for\" un yerine \"while\" da yazilabilir. \n",
    "# \"for\" da \"while\" da bir sayac mantigiyla calisiyor.\n",
    "#\"loop\" dongu demek\n"
   ]
  },
  {
   "cell_type": "code",
   "execution_count": null,
   "metadata": {},
   "outputs": [],
   "source": [
    "# 1 den 10 kadar olan sayilari toplayalim\n",
    "# \"for\" islem sirasinda kendi \"iterate\" ediyor. yani yeniliyor, tekrarliyor\n",
    "# ancak \"while\" icin bizim kendimiz onu \"iterate\" etmemiz gerekiyor\n",
    "sayac =1\n",
    "sonuc =0\n",
    "while sayac<=10:\n",
    "    sonuc = sonuc +sayac\n",
    "    sayac=sayac+1 # burda biz iterate ederek bir bir artir dedik\n",
    "print(sonuc) # 1 den 10 kadar olan sayilarin 55 oldugu gormus olduk"
   ]
  },
  {
   "cell_type": "markdown",
   "metadata": {},
   "source": [
    "# break ve continue dongusu"
   ]
  },
  {
   "cell_type": "code",
   "execution_count": 1,
   "metadata": {},
   "outputs": [],
   "source": [
    "# dongulerde sık kullandigimiz \"break ve continue \"\n",
    "# bunu genelde gelen veride bir yanlislik varsa uygulamayi durdur diyoruz.Devam etme diyoruz\n",
    "# bu durumlarda kullaniyoruz"
   ]
  },
  {
   "cell_type": "code",
   "execution_count": 2,
   "metadata": {},
   "outputs": [],
   "source": [
    "# \"break\" in kullanimi\n",
    "cities = [\"Ankara\", \"Istanbul\", \"Izmir\"]\n",
    "\n",
    "for city in cities:\n",
    "    if city == \"Ankara\":\n",
    "        break # bu sekilde dongu kiriliyor ve devam etmiyor. ve ekrana bir cikti saglamiyor\n",
    "    print(city + \" için kod = \" + city[0:3])\n",
    "    print (\"****\")"
   ]
  },
  {
   "cell_type": "code",
   "execution_count": 3,
   "metadata": {},
   "outputs": [
    {
     "name": "stdout",
     "output_type": "stream",
     "text": [
      "Ankara için kod = Ank\n",
      "****\n"
     ]
    }
   ],
   "source": [
    "cities = [\"Ankara\", \"Istanbul\", \"Izmir\"]\n",
    "\n",
    "for city in cities:\n",
    "    if city == \"Istanbul\":\n",
    "        break # bu sekilde dongu \"Ankara\" yi yaziyor ve dongu kiriliyor ve devam etmiyor. \n",
    "    print(city + \" için kod = \" + city[0:3]) \n",
    "    print (\"****\")"
   ]
  },
  {
   "cell_type": "code",
   "execution_count": 4,
   "metadata": {},
   "outputs": [
    {
     "name": "stdout",
     "output_type": "stream",
     "text": [
      "Ankara için kod = Ank\n",
      "****\n",
      "Izmir için kod = Izm\n",
      "****\n"
     ]
    }
   ],
   "source": [
    "# \"continue\" in kullanimi\n",
    "# \"sadece sart saglandigindaki loop duruyor digerleri icin devam ediyor\"\n",
    "cities = [\"Ankara\", \"Istanbul\", \"Izmir\"]\n",
    "\n",
    "for city in cities:\n",
    "    if city == \"Istanbul\":\n",
    "        continue # bu durumda sart saglandigindaki donme durumunu iptal ediyor aksti taktirde calisiyor. \n",
    "                #bu sekilde dongu \"istanbulu\" geciyor ve diger sehirler icin devam edip ekrana yazdiriyor\n",
    "    print(city + \" için kod = \" + city[0:3])\n",
    "    print (\"****\")"
   ]
  },
  {
   "cell_type": "code",
   "execution_count": 5,
   "metadata": {},
   "outputs": [],
   "source": [
    "# Range Fonksiyorunun kullanimi\n",
    "# Birden 100 e kadar olan sayilari yazdirmak icin ve odul vermek istiyorsunuz\n",
    "# 1 den 100 kadar olan cift sayilari yazdirmak istiyorsunuz"
   ]
  },
  {
   "cell_type": "code",
   "execution_count": 6,
   "metadata": {},
   "outputs": [
    {
     "name": "stdout",
     "output_type": "stream",
     "text": [
      "0\n",
      "1\n",
      "2\n",
      "3\n",
      "4\n",
      "5\n",
      "6\n",
      "7\n",
      "8\n",
      "9\n"
     ]
    }
   ],
   "source": [
    "# 1 den 9 kadar yazdirdi cunku python da index \"0\" dan basliyor\n",
    "for x in range (10):\n",
    "    print (x)"
   ]
  },
  {
   "cell_type": "code",
   "execution_count": 7,
   "metadata": {},
   "outputs": [
    {
     "name": "stdout",
     "output_type": "stream",
     "text": [
      "1\n",
      "2\n",
      "3\n",
      "4\n",
      "5\n",
      "6\n",
      "7\n",
      "8\n",
      "9\n",
      "10\n"
     ]
    }
   ],
   "source": [
    "# 10 yazdirmak icin\n",
    "for x in range (10):\n",
    "    print (x+1)"
   ]
  },
  {
   "cell_type": "code",
   "execution_count": 8,
   "metadata": {},
   "outputs": [
    {
     "name": "stdout",
     "output_type": "stream",
     "text": [
      "1\n",
      "3\n",
      "5\n",
      "7\n",
      "9\n"
     ]
    }
   ],
   "source": [
    "# 1 den 10 kadar olan tek sayilari yazdirmak icin\n",
    "for x in range (1,10,2):\n",
    "    print (x)"
   ]
  },
  {
   "cell_type": "code",
   "execution_count": 9,
   "metadata": {},
   "outputs": [
    {
     "name": "stdout",
     "output_type": "stream",
     "text": [
      "2\n",
      "4\n",
      "6\n",
      "8\n"
     ]
    }
   ],
   "source": [
    "# 1 den 10 kadar olan cift sayilari yazdirmak icin\n",
    "for x in range (2,10,2):\n",
    "    print (x)"
   ]
  },
  {
   "cell_type": "code",
   "execution_count": 10,
   "metadata": {},
   "outputs": [],
   "source": [
    "# \"Recap Demo\""
   ]
  },
  {
   "cell_type": "code",
   "execution_count": 13,
   "metadata": {},
   "outputs": [
    {
     "name": "stdout",
     "output_type": "stream",
     "text": [
      "Kac yildiz olsun?4\n",
      "*\n",
      "**\n",
      "***\n",
      "****\n"
     ]
    }
   ],
   "source": [
    "sayi =  int(input(\"Kac yildiz olsun?\"))\n",
    "yildiz = \"\"\n",
    "for x in range(1,sayi + 1):\n",
    "    yildiz = yildiz + \"*\"\n",
    "\n",
    "    print(yildiz)"
   ]
  },
  {
   "cell_type": "code",
   "execution_count": 23,
   "metadata": {},
   "outputs": [
    {
     "name": "stdout",
     "output_type": "stream",
     "text": [
      "sayi giriniz:19\n",
      "ASAL DEGIL\n"
     ]
    }
   ],
   "source": [
    "# asal sayi 1 ve kendinden baska tam sayi boleni olmayan sayi\n",
    "# 2,3,5,7,11,13\n",
    "\n",
    "sayi = int(input(\"sayi giriniz:\"))\n",
    "asalMi = True\n",
    "for x in range(2,sayi):\n",
    "    if (sayi % x) == 0:\n",
    "        asalMI = False\n",
    "        break\n",
    "if asalMI:\n",
    "    print(\"ASAL\")\n",
    "else:\n",
    "    print(\"ASAL DEGIL\")\n"
   ]
  },
  {
   "cell_type": "markdown",
   "metadata": {},
   "source": [
    "# SECTION \n",
    "# FONKSIYONLARLA ÇALIŞMAK"
   ]
  },
  {
   "cell_type": "code",
   "execution_count": 28,
   "metadata": {},
   "outputs": [],
   "source": [
    "# Bir kodu bir cok yerde kullanmamiz gerekiyorsa, her yere tekrar tekrar yazmamizi engeller\n",
    "def greet(name):\n",
    "    \"\"\"aciklama yapmak icin 3 tirnak kullaniyoruz\n",
    "    bu kisim koda dahil degil. Ancak kodu nicin yazdigimizi aciklar\"\"\"\n",
    "    \n",
    "    print(\"Hellow,\" + name +\". Good morning!\")"
   ]
  },
  {
   "cell_type": "code",
   "execution_count": 29,
   "metadata": {},
   "outputs": [
    {
     "name": "stdout",
     "output_type": "stream",
     "text": [
      "ANKARA\n"
     ]
    }
   ],
   "source": [
    "# Ankara`yi buyuk harflerle yazdirdi.\n",
    "sehir = \"Ankara\"\n",
    "print(sehir.upper())"
   ]
  },
  {
   "cell_type": "code",
   "execution_count": 31,
   "metadata": {},
   "outputs": [
    {
     "name": "stdout",
     "output_type": "stream",
     "text": [
      "istanbul\n"
     ]
    }
   ],
   "source": [
    "# istanbul`u kucuk harflerle yazdirdi.\n",
    "sehir = \"ISTANBUL\"\n",
    "print(sehir.lower())"
   ]
  },
  {
   "cell_type": "code",
   "execution_count": 35,
   "metadata": {},
   "outputs": [],
   "source": [
    "# \"Parametreler\""
   ]
  },
  {
   "cell_type": "code",
   "execution_count": 47,
   "metadata": {},
   "outputs": [
    {
     "name": "stdout",
     "output_type": "stream",
     "text": [
      "Merhaba Ayse\n",
      "Merhaba Sinan\n",
      "Merhaba Semih\n"
     ]
    }
   ],
   "source": [
    "def selamVer(isim):\n",
    "    print (\"Merhaba\"+isim)\n",
    "selamVer(\" Ayse\")\n",
    "selamVer(\" Sinan\")\n",
    "selamVer(\" Semih\")"
   ]
  },
  {
   "cell_type": "code",
   "execution_count": 54,
   "metadata": {},
   "outputs": [
    {
     "name": "stdout",
     "output_type": "stream",
     "text": [
      "Merhaba Ayse\n",
      "Merhaba Sinan\n",
      "Merhaba Semih\n",
      "Merhaba Semih\n",
      "Merhaba ziyaretci\n"
     ]
    }
   ],
   "source": [
    "#default parametre\n",
    "def selamVer(isim = \" ziyaretci\"):\n",
    "    print (\"Merhaba\" + isim)\n",
    "selamVer(\" Ayse\")\n",
    "selamVer(\" Sinan\")\n",
    "selamVer(\" Semih\")\n",
    "selamVer(\" Semih\")\n",
    "selamVer() # burada isim (parametre) belirtilmedigi icin \"default\" olarak Merhaba Ziyaretci yazdi.\n"
   ]
  },
  {
   "cell_type": "code",
   "execution_count": 61,
   "metadata": {},
   "outputs": [
    {
     "name": "stdout",
     "output_type": "stream",
     "text": [
      "Merhaba Krem Kedicik\n"
     ]
    }
   ],
   "source": [
    "def selamVer2(isim = \" ziyaretci\", soyisim = \" Kedicik\"):\n",
    "    print (\"Merhaba\" + isim + soyisim)\n",
    "selamVer2(\" Krem\")"
   ]
  },
  {
   "cell_type": "code",
   "execution_count": null,
   "metadata": {},
   "outputs": [],
   "source": [
    "# \"Deger return\" eden fonksiyonlar"
   ]
  },
  {
   "cell_type": "code",
   "execution_count": 5,
   "metadata": {},
   "outputs": [
    {
     "name": "stdout",
     "output_type": "stream",
     "text": [
      "ANKARA\n",
      "False\n"
     ]
    }
   ],
   "source": [
    "# \"Deger return\" eden ve \"deger return\" etmeyen diye fonksiyonlari ikiye ayiriyoruz.\n",
    "sehir = \"Ankara\"\n",
    "sonuc = sehir.upper()\n",
    "print(sonuc)\n",
    "print(sehir.endswith(\"e\"))\n"
   ]
  },
  {
   "cell_type": "code",
   "execution_count": 9,
   "metadata": {},
   "outputs": [
    {
     "name": "stdout",
     "output_type": "stream",
     "text": [
      "3.0\n"
     ]
    }
   ],
   "source": [
    "def dikUcgenAlaniHesapla(a,b):\n",
    "    return a*b/2\n",
    "alan=dikUcgenAlaniHesapla(2,3)\n",
    "print(alan)"
   ]
  },
  {
   "cell_type": "code",
   "execution_count": null,
   "metadata": {},
   "outputs": [],
   "source": [
    "#\"lambda\" fonksiyonunun kullanimi"
   ]
  },
  {
   "cell_type": "code",
   "execution_count": 15,
   "metadata": {},
   "outputs": [
    {
     "name": "stdout",
     "output_type": "stream",
     "text": [
      "9.0\n",
      "<class 'function'>\n"
     ]
    }
   ],
   "source": [
    "# \"lamda\"lar tek satirlik foksiyonlar icin kullanisli bir yazin sekli\n",
    "dikUcgenAlaniHesapla2 = lambda a,b : a*b/2 # onune return yazmaya gerek yok bu sekilde return oluyor\n",
    "print(dikUcgenAlaniHesapla2(3,6))\n",
    "print(type(dikUcgenAlaniHesapla2)) # burada fonksiyonun type baktik \"function\" oldugunu soyledi.\n"
   ]
  },
  {
   "cell_type": "markdown",
   "metadata": {},
   "source": [
    "# PYTHON OBJECT ORIENTED PROGRAMMING (OOP)"
   ]
  },
  {
   "cell_type": "markdown",
   "metadata": {},
   "source": [
    "# Class ile Calismak"
   ]
  },
  {
   "cell_type": "code",
   "execution_count": null,
   "metadata": {},
   "outputs": [],
   "source": [
    "# \"class\" ortak ozellikleri ve fonksiyonlari bir arada tutmamizi saglar"
   ]
  },
  {
   "cell_type": "code",
   "execution_count": 36,
   "metadata": {},
   "outputs": [
    {
     "name": "stdout",
     "output_type": "stream",
     "text": [
      "toplama=80\n",
      "cikarma=-76\n",
      "carpma=156\n",
      "bolme=0.02564102564102564\n"
     ]
    }
   ],
   "source": [
    "# \"self\" yazmamiz gerekiyor. self yerine baska bir seyde yazilabilir. \n",
    "# matematik yazdigimizda burada matematik tipinde bellekte bir yer olusuyor\n",
    "class Matematik:\n",
    "    def topla(self,sayi1,sayi2):\n",
    "        return sayi1 + sayi2\n",
    "    \n",
    "    def cikar(self,sayi1,sayi2):\n",
    "        return sayi1 - sayi2\n",
    "    \n",
    "    def carp(self,sayi1,sayi2):\n",
    "        return sayi1 * sayi2\n",
    "    \n",
    "    def bol(self,sayi1,sayi2):\n",
    "        return sayi1 / sayi2 \n",
    "    \n",
    "matematik = Matematik()\n",
    "print (\"toplama=\" + str(matematik.topla(2,78)))\n",
    "print (\"cikarma=\" + str(matematik.cikar(2,78)))\n",
    "print (\"carpma=\" + str(matematik.carp(2,78)))\n",
    "print (\"bolme=\" + str(matematik.bol(2,78)))"
   ]
  },
  {
   "cell_type": "code",
   "execution_count": 38,
   "metadata": {},
   "outputs": [
    {
     "name": "stdout",
     "output_type": "stream",
     "text": [
      "sinan\n"
     ]
    }
   ],
   "source": [
    "class Person:\n",
    "    def __init__ (self, firstName,lastName,age):\n",
    "        self.firstName = firstName\n",
    "        self.lastNane = lastName\n",
    "        self.age = age\n",
    "person1 = Person (\"sinan\", \"Sayin\",13)\n",
    "print(person1.firstName)"
   ]
  },
  {
   "cell_type": "code",
   "execution_count": 42,
   "metadata": {},
   "outputs": [],
   "source": [
    "#Inheritance - Miras Yapisi"
   ]
  },
  {
   "cell_type": "code",
   "execution_count": 61,
   "metadata": {},
   "outputs": [
    {
     "ename": "TypeError",
     "evalue": "__init__() missing 1 required positional argument: 'salary'",
     "output_type": "error",
     "traceback": [
      "\u001b[1;31m---------------------------------------------------------------------------\u001b[0m",
      "\u001b[1;31mTypeError\u001b[0m                                 Traceback (most recent call last)",
      "\u001b[1;32m<ipython-input-61-a8390b970935>\u001b[0m in \u001b[0;36m<module>\u001b[1;34m\u001b[0m\n\u001b[0;32m      8\u001b[0m     \u001b[1;32mdef\u001b[0m \u001b[0m__init__\u001b[0m\u001b[1;33m(\u001b[0m\u001b[0mself\u001b[0m\u001b[1;33m,\u001b[0m\u001b[0mcreditCardNumber\u001b[0m\u001b[1;33m)\u001b[0m\u001b[1;33m:\u001b[0m\u001b[1;33m\u001b[0m\u001b[1;33m\u001b[0m\u001b[0m\n\u001b[0;32m      9\u001b[0m         \u001b[0mself\u001b[0m\u001b[1;33m.\u001b[0m\u001b[0mcreditCardNumber\u001b[0m \u001b[1;33m=\u001b[0m \u001b[0mcreditCardNumber\u001b[0m\u001b[1;33m\u001b[0m\u001b[1;33m\u001b[0m\u001b[0m\n\u001b[1;32m---> 10\u001b[1;33m \u001b[0mahmet\u001b[0m \u001b[1;33m=\u001b[0m \u001b[0mWorker\u001b[0m\u001b[1;33m(\u001b[0m\u001b[1;33m)\u001b[0m\u001b[1;33m\u001b[0m\u001b[1;33m\u001b[0m\u001b[0m\n\u001b[0m\u001b[0;32m     11\u001b[0m \u001b[0mmehmet\u001b[0m \u001b[1;33m=\u001b[0m \u001b[0mCustomer\u001b[0m\u001b[1;33m(\u001b[0m\u001b[1;33m)\u001b[0m\u001b[1;33m\u001b[0m\u001b[1;33m\u001b[0m\u001b[0m\n",
      "\u001b[1;31mTypeError\u001b[0m: __init__() missing 1 required positional argument: 'salary'"
     ]
    }
   ],
   "source": [
    "# bir biriyle iliskili oldugunu dusundugunuz dosyalar ayni class icine konuluyor\n",
    "\n",
    "class Worker(Person):\n",
    "    def __init__(self,salary):\n",
    "        self.salary = salary\n",
    "        \n",
    "class Customer(Person):\n",
    "    def __init__(self,creditCardNumber):\n",
    "        self.creditCardNumber = creditCardNumber\n",
    "ahmet = Worker()\n",
    "mehmet = Customer()"
   ]
  },
  {
   "cell_type": "code",
   "execution_count": 83,
   "metadata": {},
   "outputs": [],
   "source": [
    "def topla(sayi1,sayi2):\n",
    "    print(\"Toplam:\" + str(sayi1 + sayi2))\n",
    "def carp(sayi1,sayi2):\n",
    "    print(\"Carpim:\" + str(sayi1 * sayi2))\n",
    "#     topla= toplama\n",
    "#     print(\"topla=\" + str(toplama.topla(2,3)))"
   ]
  },
  {
   "cell_type": "markdown",
   "metadata": {},
   "source": [
    "# SECTION \n",
    "\n",
    "# DOSYALARLA CALISMAK"
   ]
  },
  {
   "cell_type": "code",
   "execution_count": 7,
   "metadata": {},
   "outputs": [
    {
     "data": {
      "text/plain": [
       "<_io.TextIOWrapper name='musteriler.txt' mode='r' encoding='cp1252'>"
      ]
     },
     "execution_count": 7,
     "metadata": {},
     "output_type": "execute_result"
    }
   ],
   "source": [
    "# \"r\" read in kisaltilmilisi var olan dosyayi okumak icin kullaniyoruz\n",
    "\n",
    "open(\"musteriler.txt\",\"r\")"
   ]
  },
  {
   "cell_type": "code",
   "execution_count": 8,
   "metadata": {},
   "outputs": [
    {
     "data": {
      "text/plain": [
       "<_io.TextIOWrapper name='musteriler.txt' mode='w' encoding='cp1252'>"
      ]
     },
     "execution_count": 8,
     "metadata": {},
     "output_type": "execute_result"
    }
   ],
   "source": [
    "# \"w\" write kisaltilmilisi ve yeniden dosya ulosturmak icin kullaniyoruz.\n",
    "# asagidaki sekilde bir code yazdigimizda calisma klasoryunun icerisine\n",
    "# musteriler.txt diye bir dosya acti.\n",
    "open(\"musteriler.txt\",\"w\")"
   ]
  },
  {
   "cell_type": "code",
   "execution_count": 9,
   "metadata": {},
   "outputs": [
    {
     "data": {
      "text/plain": [
       "<_io.TextIOWrapper name='musteriler2.txt' mode='a' encoding='cp1252'>"
      ]
     },
     "execution_count": 9,
     "metadata": {},
     "output_type": "execute_result"
    }
   ],
   "source": [
    "# \"a\" append kisaltilmisi. Burada hem dosyayi okuyabiliyoruz hemde yeni bilgi ekleye biliyoruz.\n",
    "open(\"musteriler2.txt\",\"a\")"
   ]
  },
  {
   "cell_type": "code",
   "execution_count": 10,
   "metadata": {},
   "outputs": [
    {
     "data": {
      "text/plain": [
       "<_io.TextIOWrapper name='musteriler3.txt' mode='x' encoding='cp1252'>"
      ]
     },
     "execution_count": 10,
     "metadata": {},
     "output_type": "execute_result"
    }
   ],
   "source": [
    "# \"x\" (create) demek oluyor. Eger dosya yoksa buda yeniden dosya olusturuyor. Ayni isimde olusmus dosya varsa hata veriyor.\n",
    "open(\"musteriler3.txt\",\"x\")"
   ]
  },
  {
   "cell_type": "code",
   "execution_count": 17,
   "metadata": {},
   "outputs": [
    {
     "name": "stdout",
     "output_type": "stream",
     "text": [
      "Fatih Sayin\n",
      "Ayse Sayin\n",
      "Sinan Sayin\n",
      "Semih Sayin\n",
      "Krem Sayin\n"
     ]
    }
   ],
   "source": [
    "# burada dosyayi okuduk ancak icinde data yok oldugu icin bos dondu\n",
    "\n",
    "f=open(\"musteriler1.txt\",\"r\")\n",
    "print(f.read())\n"
   ]
  },
  {
   "cell_type": "code",
   "execution_count": 21,
   "metadata": {},
   "outputs": [
    {
     "name": "stdout",
     "output_type": "stream",
     "text": [
      "Fatih Sayin\n",
      "\n"
     ]
    }
   ],
   "source": [
    "# \"readline\"satir satir okumak icin kullaniyoruz\n",
    "# ancak hangi satiri okumak istiyorsak onu belirtmek lazim\n",
    "\n",
    "f=open(\"musteriler1.txt\",\"r\")\n",
    "\n",
    "print(f.readline())"
   ]
  },
  {
   "cell_type": "code",
   "execution_count": 24,
   "metadata": {},
   "outputs": [
    {
     "name": "stdout",
     "output_type": "stream",
     "text": [
      "Fatih Sayin\n",
      "\n",
      "Ayse Sayin\n",
      "\n",
      "Sinan Sayin\n",
      "\n",
      "Semih Sayin\n",
      "\n",
      "Krem Sayin\n"
     ]
    }
   ],
   "source": [
    "# \"for\" dongusu yazarak tum satirlar arasinda gezebiliriz\n",
    "\n",
    "f=open(\"musteriler1.txt\",\"r\")\n",
    "for l in f:\n",
    "    print(l)"
   ]
  },
  {
   "cell_type": "code",
   "execution_count": 25,
   "metadata": {},
   "outputs": [],
   "source": [
    "#\"close\" komutu ile de dosya kapatiliyor\n",
    "f.close()"
   ]
  },
  {
   "cell_type": "code",
   "execution_count": 34,
   "metadata": {},
   "outputs": [
    {
     "data": {
      "text/plain": [
       "4"
      ]
     },
     "execution_count": 34,
     "metadata": {},
     "output_type": "execute_result"
    }
   ],
   "source": [
    "# \"student\" isimli bir dosya eklemis oldu directory ya\n",
    "filetoAppend = open(\"student.txt\",\"a\")\n",
    "filetoAppend.write(\"Fatih\")\n",
    "filetoAppend.write(\"\\n\") # bir alt satira yani alt alta yazdirmak icin \"\\n\" kullaniyoruz\n",
    "filetoAppend.write(\"Ayse\")"
   ]
  },
  {
   "cell_type": "code",
   "execution_count": 36,
   "metadata": {},
   "outputs": [
    {
     "data": {
      "text/plain": [
       "5"
      ]
     },
     "execution_count": 36,
     "metadata": {},
     "output_type": "execute_result"
    }
   ],
   "source": [
    "# \"student\" isimli bir dosya eklemis oldu directory ya\n",
    "filetoAppend = open(\"student.txt\",\"w\")\n",
    "filetoAppend.write(\"Fatih\")\n",
    "filetoAppend.write(\"\\n\") # bir alt satira yani alt alta yazdirmak icin \"\\n\" kullaniyoruz\n",
    "filetoAppend.write(\"Sinan\") #burada \"Ayse\"nin yerine dosyada \"Sinan\" yazdirdik"
   ]
  },
  {
   "cell_type": "code",
   "execution_count": 47,
   "metadata": {},
   "outputs": [
    {
     "ename": "FileExistsError",
     "evalue": "[Errno 17] File exists: 'student1.txt'",
     "output_type": "error",
     "traceback": [
      "\u001b[1;31m---------------------------------------------------------------------------\u001b[0m",
      "\u001b[1;31mFileExistsError\u001b[0m                           Traceback (most recent call last)",
      "\u001b[1;32m<ipython-input-47-ee225a92deb1>\u001b[0m in \u001b[0;36m<module>\u001b[1;34m\u001b[0m\n\u001b[0;32m      1\u001b[0m \u001b[1;31m# \"x\" yazarak yani create demis olarak directory da yeni bir dosya olusturuyoruz\u001b[0m\u001b[1;33m\u001b[0m\u001b[1;33m\u001b[0m\u001b[1;33m\u001b[0m\u001b[0m\n\u001b[1;32m----> 2\u001b[1;33m \u001b[0mfiletocreate\u001b[0m\u001b[1;33m=\u001b[0m \u001b[0mopen\u001b[0m\u001b[1;33m(\u001b[0m\u001b[1;34m\"student1.txt\"\u001b[0m\u001b[1;33m,\u001b[0m\u001b[1;34m\"x\"\u001b[0m\u001b[1;33m)\u001b[0m\u001b[1;33m\u001b[0m\u001b[1;33m\u001b[0m\u001b[0m\n\u001b[0m",
      "\u001b[1;31mFileExistsError\u001b[0m: [Errno 17] File exists: 'student1.txt'"
     ]
    }
   ],
   "source": [
    "# \"x\" yazarak yani create demis olarak directory da yeni bir dosya olusturuyoruz\n",
    "filetocreate= open(\"student1.txt\",\"x\")\n"
   ]
  },
  {
   "cell_type": "code",
   "execution_count": 53,
   "metadata": {},
   "outputs": [
    {
     "ename": "PermissionError",
     "evalue": "[WinError 32] The process cannot access the file because it is being used by another process: 'student1.txt'",
     "output_type": "error",
     "traceback": [
      "\u001b[1;31m---------------------------------------------------------------------------\u001b[0m",
      "\u001b[1;31mPermissionError\u001b[0m                           Traceback (most recent call last)",
      "\u001b[1;32m<ipython-input-53-2ce2fa30c9be>\u001b[0m in \u001b[0;36m<module>\u001b[1;34m\u001b[0m\n\u001b[0;32m      1\u001b[0m \u001b[1;31m# directory de ki bir dasyayi silmek icin\u001b[0m\u001b[1;33m\u001b[0m\u001b[1;33m\u001b[0m\u001b[1;33m\u001b[0m\u001b[0m\n\u001b[0;32m      2\u001b[0m \u001b[1;32mimport\u001b[0m \u001b[0mos\u001b[0m \u001b[1;31m# u yukluyoruz\u001b[0m\u001b[1;33m\u001b[0m\u001b[1;33m\u001b[0m\u001b[0m\n\u001b[1;32m----> 3\u001b[1;33m \u001b[0mos\u001b[0m\u001b[1;33m.\u001b[0m\u001b[0mremove\u001b[0m\u001b[1;33m(\u001b[0m\u001b[1;34m\"student1.txt\"\u001b[0m\u001b[1;33m)\u001b[0m \u001b[1;31m#remove fonksiyonunu kullanarak bir dosyayi directory dan siliyoruz\u001b[0m\u001b[1;33m\u001b[0m\u001b[1;33m\u001b[0m\u001b[0m\n\u001b[0m",
      "\u001b[1;31mPermissionError\u001b[0m: [WinError 32] The process cannot access the file because it is being used by another process: 'student1.txt'"
     ]
    }
   ],
   "source": [
    "# directory de ki bir dasyayi silmek icin\n",
    "import os # u yukluyoruz\n",
    "os.remove(\"student1.txt\") #remove fonksiyonunu kullanarak bir dosyayi directory dan siliyoruz"
   ]
  },
  {
   "cell_type": "code",
   "execution_count": 56,
   "metadata": {},
   "outputs": [
    {
     "ename": "FileNotFoundError",
     "evalue": "[WinError 2] The system cannot find the file specified: 'emty'",
     "output_type": "error",
     "traceback": [
      "\u001b[1;31m---------------------------------------------------------------------------\u001b[0m",
      "\u001b[1;31mFileNotFoundError\u001b[0m                         Traceback (most recent call last)",
      "\u001b[1;32m<ipython-input-56-4504d03c5e69>\u001b[0m in \u001b[0;36m<module>\u001b[1;34m\u001b[0m\n\u001b[0;32m      1\u001b[0m \u001b[1;31m# bir klasory silmek icin\u001b[0m\u001b[1;33m\u001b[0m\u001b[1;33m\u001b[0m\u001b[1;33m\u001b[0m\u001b[0m\n\u001b[1;32m----> 2\u001b[1;33m \u001b[0mos\u001b[0m\u001b[1;33m.\u001b[0m\u001b[0mrmdir\u001b[0m\u001b[1;33m(\u001b[0m\u001b[1;34m\"emty\"\u001b[0m\u001b[1;33m)\u001b[0m \u001b[1;31m# directory deki \"emty\" isimli dosyayi silmis olduk\u001b[0m\u001b[1;33m\u001b[0m\u001b[1;33m\u001b[0m\u001b[0m\n\u001b[0m",
      "\u001b[1;31mFileNotFoundError\u001b[0m: [WinError 2] The system cannot find the file specified: 'emty'"
     ]
    }
   ],
   "source": [
    "# bir klasory silmek icin\n",
    "os.rmdir(\"emty\") # directory deki \"emty\" isimli dosyayi silmis olduk"
   ]
  },
  {
   "cell_type": "markdown",
   "metadata": {},
   "source": [
    "# SECTION \n",
    "\n",
    "# \"JSON\" DOSYALARIYLA CALISMAK"
   ]
  },
  {
   "cell_type": "code",
   "execution_count": 73,
   "metadata": {},
   "outputs": [],
   "source": [
    "data = '{\"firstName\":\"Fatih\",\"lastName\":\"Sayin\"}' #bu format \"json\" veri tipi"
   ]
  },
  {
   "cell_type": "code",
   "execution_count": 77,
   "metadata": {},
   "outputs": [
    {
     "name": "stdout",
     "output_type": "stream",
     "text": [
      "Fatih\n",
      "Sayin\n"
     ]
    }
   ],
   "source": [
    "import json\n",
    "data = '{\"firstName\":\"Fatih\",\"lastName\":\"Sayin\"}'\n",
    "y = json.loads(data)\n",
    "print(y[\"firstName\"])\n",
    "print(y[\"lastName\"])"
   ]
  },
  {
   "cell_type": "code",
   "execution_count": 80,
   "metadata": {},
   "outputs": [
    {
     "name": "stdout",
     "output_type": "stream",
     "text": [
      "{'firstName': 'Fatih', 'email': 'fmsayin@hotmail.com'}\n"
     ]
    }
   ],
   "source": [
    "#\"python\" nesnelerini \"json\" formatina cevirmek icin \"dumps\"fonksiyonu kullanilir\n",
    "# bursa bir sozluk json formatina donusturulmus oldu\n",
    "import json\n",
    "customer = {\"firstName\":\"Fatih\",\"email\":\"fmsayin@hotmail.com\"}\n",
    "customerjson = json.dumps(customer)\n",
    "print(customer)"
   ]
  },
  {
   "cell_type": "code",
   "execution_count": 81,
   "metadata": {},
   "outputs": [],
   "source": [
    "#json uzantili dosyanin \"url\"linki\n",
    "# https://jsonplaceholder.typicode.com/users"
   ]
  },
  {
   "cell_type": "code",
   "execution_count": 84,
   "metadata": {},
   "outputs": [
    {
     "name": "stdout",
     "output_type": "stream",
     "text": [
      "[{'id': 1, 'name': 'Leanne Graham', 'username': 'Bret', 'email': 'Sincere@april.biz', 'address': {'street': 'Kulas Light', 'suite': 'Apt. 556', 'city': 'Gwenborough', 'zipcode': '92998-3874', 'geo': {'lat': '-37.3159', 'lng': '81.1496'}}, 'phone': '1-770-736-8031 x56442', 'website': 'hildegard.org', 'company': {'name': 'Romaguera-Crona', 'catchPhrase': 'Multi-layered client-server neural-net', 'bs': 'harness real-time e-markets'}}, {'id': 2, 'name': 'Ervin Howell', 'username': 'Antonette', 'email': 'Shanna@melissa.tv', 'address': {'street': 'Victor Plains', 'suite': 'Suite 879', 'city': 'Wisokyburgh', 'zipcode': '90566-7771', 'geo': {'lat': '-43.9509', 'lng': '-34.4618'}}, 'phone': '010-692-6593 x09125', 'website': 'anastasia.net', 'company': {'name': 'Deckow-Crist', 'catchPhrase': 'Proactive didactic contingency', 'bs': 'synergize scalable supply-chains'}}, {'id': 3, 'name': 'Clementine Bauch', 'username': 'Samantha', 'email': 'Nathan@yesenia.net', 'address': {'street': 'Douglas Extension', 'suite': 'Suite 847', 'city': 'McKenziehaven', 'zipcode': '59590-4157', 'geo': {'lat': '-68.6102', 'lng': '-47.0653'}}, 'phone': '1-463-123-4447', 'website': 'ramiro.info', 'company': {'name': 'Romaguera-Jacobson', 'catchPhrase': 'Face to face bifurcated interface', 'bs': 'e-enable strategic applications'}}, {'id': 4, 'name': 'Patricia Lebsack', 'username': 'Karianne', 'email': 'Julianne.OConner@kory.org', 'address': {'street': 'Hoeger Mall', 'suite': 'Apt. 692', 'city': 'South Elvis', 'zipcode': '53919-4257', 'geo': {'lat': '29.4572', 'lng': '-164.2990'}}, 'phone': '493-170-9623 x156', 'website': 'kale.biz', 'company': {'name': 'Robel-Corkery', 'catchPhrase': 'Multi-tiered zero tolerance productivity', 'bs': 'transition cutting-edge web services'}}, {'id': 5, 'name': 'Chelsey Dietrich', 'username': 'Kamren', 'email': 'Lucio_Hettinger@annie.ca', 'address': {'street': 'Skiles Walks', 'suite': 'Suite 351', 'city': 'Roscoeview', 'zipcode': '33263', 'geo': {'lat': '-31.8129', 'lng': '62.5342'}}, 'phone': '(254)954-1289', 'website': 'demarco.info', 'company': {'name': 'Keebler LLC', 'catchPhrase': 'User-centric fault-tolerant solution', 'bs': 'revolutionize end-to-end systems'}}, {'id': 6, 'name': 'Mrs. Dennis Schulist', 'username': 'Leopoldo_Corkery', 'email': 'Karley_Dach@jasper.info', 'address': {'street': 'Norberto Crossing', 'suite': 'Apt. 950', 'city': 'South Christy', 'zipcode': '23505-1337', 'geo': {'lat': '-71.4197', 'lng': '71.7478'}}, 'phone': '1-477-935-8478 x6430', 'website': 'ola.org', 'company': {'name': 'Considine-Lockman', 'catchPhrase': 'Synchronised bottom-line interface', 'bs': 'e-enable innovative applications'}}, {'id': 7, 'name': 'Kurtis Weissnat', 'username': 'Elwyn.Skiles', 'email': 'Telly.Hoeger@billy.biz', 'address': {'street': 'Rex Trail', 'suite': 'Suite 280', 'city': 'Howemouth', 'zipcode': '58804-1099', 'geo': {'lat': '24.8918', 'lng': '21.8984'}}, 'phone': '210.067.6132', 'website': 'elvis.io', 'company': {'name': 'Johns Group', 'catchPhrase': 'Configurable multimedia task-force', 'bs': 'generate enterprise e-tailers'}}, {'id': 8, 'name': 'Nicholas Runolfsdottir V', 'username': 'Maxime_Nienow', 'email': 'Sherwood@rosamond.me', 'address': {'street': 'Ellsworth Summit', 'suite': 'Suite 729', 'city': 'Aliyaview', 'zipcode': '45169', 'geo': {'lat': '-14.3990', 'lng': '-120.7677'}}, 'phone': '586.493.6943 x140', 'website': 'jacynthe.com', 'company': {'name': 'Abernathy Group', 'catchPhrase': 'Implemented secondary concept', 'bs': 'e-enable extensible e-tailers'}}, {'id': 9, 'name': 'Glenna Reichert', 'username': 'Delphine', 'email': 'Chaim_McDermott@dana.io', 'address': {'street': 'Dayna Park', 'suite': 'Suite 449', 'city': 'Bartholomebury', 'zipcode': '76495-3109', 'geo': {'lat': '24.6463', 'lng': '-168.8889'}}, 'phone': '(775)976-6794 x41206', 'website': 'conrad.com', 'company': {'name': 'Yost and Sons', 'catchPhrase': 'Switchable contextually-based project', 'bs': 'aggregate real-time technologies'}}, {'id': 10, 'name': 'Clementina DuBuque', 'username': 'Moriah.Stanton', 'email': 'Rey.Padberg@karina.biz', 'address': {'street': 'Kattie Turnpike', 'suite': 'Suite 198', 'city': 'Lebsackbury', 'zipcode': '31428-2261', 'geo': {'lat': '-38.2386', 'lng': '57.2232'}}, 'phone': '024-648-3804', 'website': 'ambrose.net', 'company': {'name': 'Hoeger LLC', 'catchPhrase': 'Centralized empowering task-force', 'bs': 'target end-to-end models'}}]\n"
     ]
    }
   ],
   "source": [
    "#\"json\" dosyasini \"python\" da acmak icin \"with open\" kullaniyoruz\n",
    "import json\n",
    "with open (\"users.json\") as users:\n",
    "    data=json.load(users)\n",
    "    print(data)"
   ]
  },
  {
   "cell_type": "code",
   "execution_count": 86,
   "metadata": {},
   "outputs": [
    {
     "name": "stdout",
     "output_type": "stream",
     "text": [
      "{'id': 1, 'name': 'Leanne Graham', 'username': 'Bret', 'email': 'Sincere@april.biz', 'address': {'street': 'Kulas Light', 'suite': 'Apt. 556', 'city': 'Gwenborough', 'zipcode': '92998-3874', 'geo': {'lat': '-37.3159', 'lng': '81.1496'}}, 'phone': '1-770-736-8031 x56442', 'website': 'hildegard.org', 'company': {'name': 'Romaguera-Crona', 'catchPhrase': 'Multi-layered client-server neural-net', 'bs': 'harness real-time e-markets'}}\n"
     ]
    }
   ],
   "source": [
    "#\"json\" dosyasinin 1. indexine ulasmak icin\n",
    "import json\n",
    "with open (\"users.json\") as users:\n",
    "    data=json.load(users)\n",
    "    print(data[0]) #burada 0 indexindeki yani birinci siradaki \"Leanne Graham\" ulasmis olduk"
   ]
  },
  {
   "cell_type": "code",
   "execution_count": 96,
   "metadata": {
    "scrolled": true
   },
   "outputs": [
    {
     "name": "stdout",
     "output_type": "stream",
     "text": [
      "Bret\n",
      "Sincere@april.biz\n"
     ]
    }
   ],
   "source": [
    "\n",
    "with open (\"users.json\") as users:\n",
    "    data=json.load(users)\n",
    "    print(data[0][\"username\"]) #bu datanin username ulasmak icin\n",
    "    print(data[0][\"email\"]) #bu datanin emaile ulasmak icin\n"
   ]
  },
  {
   "cell_type": "code",
   "execution_count": 97,
   "metadata": {},
   "outputs": [
    {
     "name": "stdout",
     "output_type": "stream",
     "text": [
      "{'street': 'Kulas Light', 'suite': 'Apt. 556', 'city': 'Gwenborough', 'zipcode': '92998-3874', 'geo': {'lat': '-37.3159', 'lng': '81.1496'}}\n"
     ]
    }
   ],
   "source": [
    "print(data[0][\"address\"]) #bu datanin adresine ulasmak icin\n"
   ]
  },
  {
   "cell_type": "code",
   "execution_count": 98,
   "metadata": {},
   "outputs": [
    {
     "name": "stdout",
     "output_type": "stream",
     "text": [
      "-37.3159\n"
     ]
    }
   ],
   "source": [
    "print(data[0][\"address\"][\"geo\"][\"lat\"]) #bu datanin adresine \"Lat\" ulasmak icin"
   ]
  },
  {
   "cell_type": "markdown",
   "metadata": {},
   "source": [
    "# SECTION \n",
    "\n",
    "# HATA YÖNETİMİ"
   ]
  },
  {
   "cell_type": "code",
   "execution_count": null,
   "metadata": {},
   "outputs": [],
   "source": [
    "### sayi giriniz dedi sayi girdim ve hata vermedi\n",
    "sayi = int(input(\"Sayi giriniz\"))\n"
   ]
  },
  {
   "cell_type": "code",
   "execution_count": null,
   "metadata": {},
   "outputs": [],
   "source": [
    "### sayi giriniz dedi bir sayi degilde harf \"b\" girdigimde hata verdi.\n",
    "sayi = int(input(\"Sayi giriniz\"))\n"
   ]
  },
  {
   "cell_type": "code",
   "execution_count": null,
   "metadata": {},
   "outputs": [],
   "source": [
    "### Eger hata\n",
    "try:\n",
    "    sayi = int(input(Sayi giriniz))\n",
    "except ValueError: ###ise \n",
    "    print(\"Tip uyuşmazlığı: Lütfen sayı giriniz\")\n",
    "except  ZeroDivisionError: ###ise \n",
    "    print(\"payda sıfır olamaz\")\n",
    "###bunların hiç biri değilse ne olursa olsun \n",
    "except: \n",
    "    print(\"bir hata oluştu\")\n",
    "print(\"Bitti\")\n"
   ]
  },
  {
   "cell_type": "code",
   "execution_count": null,
   "metadata": {},
   "outputs": [],
   "source": [
    "# Goruldugu gibi formul çalışmadı\n",
    "list = ['Fatih', 0,3,\"6\"]\n",
    "for x in list:\n",
    "    print (\"Sayi:\" + str(x))\n",
    "    print (\"Sonuc:\"+ str(sonuc))"
   ]
  },
  {
   "cell_type": "code",
   "execution_count": null,
   "metadata": {},
   "outputs": [],
   "source": [
    "# Goruldugu gibi formul çalışmadı\n",
    "list = [7,'Fatih', 0,3,\"6\"]\n",
    "for x in list:\n",
    "    try:  \n",
    "    print (\"Sayi:\" + str(x))\n",
    "    print (\"Sonuc:\"+ str(sonuc))\n",
    "    ecept: \n",
    "        print (str(x)+\"hesaplanamadi\")"
   ]
  },
  {
   "cell_type": "code",
   "execution_count": null,
   "metadata": {},
   "outputs": [],
   "source": [
    "# hatalar telefi edildiginde Goruldugu gibi formul çalışti\n",
    "list = [7,'Fatih', 0,3,\"6\"]\n",
    "for x in list:\n",
    "    try:  \n",
    "        print(\"sayi: \" + str(x))\n",
    "        sonuc = 1/int(x)\n",
    "        print(\"Sonuc: \" + str(sonuc))\n",
    "    except ValueError:\n",
    "        print(str(x)+ \" bir sayi degil\")\n",
    "    except ZeroDivisionError:\n",
    "        print(str(x)+ \"sifira bolme hatasi\")\n",
    "    except: \n",
    "        print(str(x)+ \"hesaplanamadi\")\n",
    "        print(\"Sistem diyor ki:\" + str(sys.exc_info()[0]))\n",
    "    finally:\n",
    "        print(\"islemler bitti\")"
   ]
  },
  {
   "cell_type": "markdown",
   "metadata": {},
   "source": [
    "# SECTION \n",
    "\n",
    "# ITERATOR YAPILARIYLA ÇALIŞMAK\n",
    "\n"
   ]
  },
  {
   "cell_type": "code",
   "execution_count": null,
   "metadata": {},
   "outputs": [],
   "source": [
    "### iterator =  bir veri grubunun elemanlarına sırayla erişim sağlayan yapı\n",
    "\n",
    "sehirler = [\"Ankara\", \"istanbul\", \"izmir\"]\n",
    "iterator= iter(sehirler)\n",
    "print(next(iterator))\n",
    "print(next(iterator))\n",
    "print(next(iterator))"
   ]
  },
  {
   "cell_type": "code",
   "execution_count": null,
   "metadata": {},
   "outputs": [],
   "source": [
    "### iterator =  bir veri grubunun elemanlarına sırayla erişim sağlayan yapı\n",
    "### yukardeki ornekte olabilecegi gibi işin kolay kismi \"iterator\"u bir \"for\" dongusu icine koymak\n",
    "sehirler = [\"Ankara\", \"istanbul\", \"izmir\"]\n",
    "iterator= iter(sehirler)\n",
    "for sehir in sehirler:\n",
    "    print(sehir)"
   ]
  },
  {
   "cell_type": "markdown",
   "metadata": {},
   "source": [
    "# SECTION \n",
    "\n",
    "# MAP-FILTER-REDUCE YAPILARIYLA ÇALIŞMAK\n"
   ]
  },
  {
   "cell_type": "code",
   "execution_count": null,
   "metadata": {},
   "outputs": [],
   "source": [
    "### \"mapping\" foksiyonuyla calismak\n",
    "sayilar = [1,2,3,4,5]\n",
    "sayilarKareli = []\n",
    "for sayi in sayilar:\n",
    "    sayilarKareli.append(sayi*sayi)\n",
    "print (sayilarKareli)"
   ]
  },
  {
   "cell_type": "code",
   "execution_count": null,
   "metadata": {},
   "outputs": [],
   "source": [
    "### \"map\" işlemi yukardeki örnekte olabileceği gibi \"lambda\" fonksiyonu kullanılarak daha kolay bir şekilde yapılabilir.\n",
    "sayilar = [1,2,3,4,5]\n",
    "sayilarKareli = list(map(lambda sayi: sayi*sayi,sayilar))\n",
    "print(sayilarKareli)\n"
   ]
  },
  {
   "cell_type": "code",
   "execution_count": null,
   "metadata": {},
   "outputs": [],
   "source": [
    "### \"filter\" fonksiyonunun kullanimi\n",
    "sayilar = [1,2,3,4,5]\n",
    "sayilarFilter = list(filter(lambda sayi: sayi>2,sayilar))\n",
    "print(sayilarFilter)\n"
   ]
  },
  {
   "cell_type": "code",
   "execution_count": null,
   "metadata": {},
   "outputs": [],
   "source": [
    "### \"filter\" fonksiyonunun kullanimi\n",
    "sayilar = [1,2,3,4,5]\n",
    "sayilarFilter = list(filter(lambda sayi: sayi>2,sayilar))\n",
    "print(sayilarFilter)\n"
   ]
  },
  {
   "cell_type": "code",
   "execution_count": null,
   "metadata": {},
   "outputs": [],
   "source": [
    "### \"reduce\" fonksiyonunun kullanimi\n",
    "from functools import reduce\n",
    "sayilar = [1,2,3,4,5]\n",
    "sayilarFaktoriyel = reduce(lambda x,y:x*y,sayilar)\n",
    "print(sayilarFaktoriyel)\n"
   ]
  }
 ],
 "metadata": {
  "kernelspec": {
   "display_name": "Python 3",
   "language": "python",
   "name": "python3"
  },
  "language_info": {
   "codemirror_mode": {
    "name": "ipython",
    "version": 3
   },
   "file_extension": ".py",
   "mimetype": "text/x-python",
   "name": "python",
   "nbconvert_exporter": "python",
   "pygments_lexer": "ipython3",
   "version": "3.7.2"
  }
 },
 "nbformat": 4,
 "nbformat_minor": 2
}

{
 "cells": [
  {
   "cell_type": "markdown",
   "metadata": {},
   "source": [
    "# Workshop-1    \n",
    "# Deger Atama (variable streping)"
   ]
  },
  {
   "cell_type": "code",
   "execution_count": 1,
   "metadata": {},
   "outputs": [],
   "source": [
    "# yeni bir deger atamak (variable streping)deniyor buna python da\n",
    "#yani \"x\" yenin \"y\" in degerine atamak"
   ]
  },
  {
   "cell_type": "code",
   "execution_count": 2,
   "metadata": {},
   "outputs": [],
   "source": [
    "x=10"
   ]
  },
  {
   "cell_type": "code",
   "execution_count": 3,
   "metadata": {},
   "outputs": [],
   "source": [
    "y=20"
   ]
  },
  {
   "cell_type": "code",
   "execution_count": 4,
   "metadata": {},
   "outputs": [],
   "source": [
    "# 1. Cozum"
   ]
  },
  {
   "cell_type": "code",
   "execution_count": 5,
   "metadata": {},
   "outputs": [],
   "source": [
    "sayi=x # \"x\" \"sayi\"a esitlemis olduk"
   ]
  },
  {
   "cell_type": "code",
   "execution_count": 6,
   "metadata": {},
   "outputs": [],
   "source": [
    "x=y # burda \"x\" \"y\" esitledik yani \"X\" 20 oldu"
   ]
  },
  {
   "cell_type": "code",
   "execution_count": 7,
   "metadata": {},
   "outputs": [],
   "source": [
    "y=sayi #  burada \"y\" i \"sayi\"a yani \"y\"e esitlemis olduk ve degerler yer degistirdi"
   ]
  },
  {
   "cell_type": "code",
   "execution_count": 8,
   "metadata": {},
   "outputs": [
    {
     "name": "stdout",
     "output_type": "stream",
     "text": [
      "x=20\n",
      "y =10\n"
     ]
    }
   ],
   "source": [
    "print(\"x=\" + str(x))\n",
    "print(\"y =\" + str(y))"
   ]
  },
  {
   "cell_type": "code",
   "execution_count": 9,
   "metadata": {},
   "outputs": [],
   "source": [
    "# 2. cozum"
   ]
  },
  {
   "cell_type": "code",
   "execution_count": 10,
   "metadata": {},
   "outputs": [],
   "source": [
    "z=10"
   ]
  },
  {
   "cell_type": "code",
   "execution_count": 11,
   "metadata": {},
   "outputs": [],
   "source": [
    "w=20"
   ]
  },
  {
   "cell_type": "code",
   "execution_count": 12,
   "metadata": {},
   "outputs": [],
   "source": [
    " z,w=w,z "
   ]
  },
  {
   "cell_type": "code",
   "execution_count": 13,
   "metadata": {},
   "outputs": [
    {
     "name": "stdout",
     "output_type": "stream",
     "text": [
      "z=20\n",
      "w =10\n"
     ]
    }
   ],
   "source": [
    "print(\"z=\" + str(z))\n",
    "print(\"w =\" + str(w))"
   ]
  },
  {
   "cell_type": "markdown",
   "metadata": {},
   "source": [
    "# Workshop-2 \n",
    "# donusum orani  Mili Km donusturmek"
   ]
  },
  {
   "cell_type": "code",
   "execution_count": 15,
   "metadata": {},
   "outputs": [],
   "source": [
    "# 1 mil=0.621371192 km"
   ]
  },
  {
   "cell_type": "code",
   "execution_count": 40,
   "metadata": {},
   "outputs": [],
   "source": [
    "donusumorani=0.621371192 "
   ]
  },
  {
   "cell_type": "code",
   "execution_count": 44,
   "metadata": {},
   "outputs": [
    {
     "name": "stdout",
     "output_type": "stream",
     "text": [
      "Kac Km?10\n"
     ]
    }
   ],
   "source": [
    "km=int(input(\"Kac Km?\"))"
   ]
  },
  {
   "cell_type": "code",
   "execution_count": 45,
   "metadata": {},
   "outputs": [],
   "source": [
    "mil= km * donusumorani\n"
   ]
  },
  {
   "cell_type": "code",
   "execution_count": 46,
   "metadata": {},
   "outputs": [
    {
     "name": "stdout",
     "output_type": "stream",
     "text": [
      "10 km= 6.21371192 mil eder\n"
     ]
    }
   ],
   "source": [
    "print(str(km) +\" km= \"+str(mil)+\" mil eder\")"
   ]
  },
  {
   "cell_type": "markdown",
   "metadata": {},
   "source": [
    "# Workshop-3\n",
    "# Kullanicidan bir sayi aliyoruz\n",
    "# 0 dan buyuk ise pozitif\n",
    "# 0 a esitse sifir\n",
    "# 0 dan kucukse negatif yazdiriyoruz"
   ]
  },
  {
   "cell_type": "code",
   "execution_count": 2,
   "metadata": {},
   "outputs": [
    {
     "name": "stdout",
     "output_type": "stream",
     "text": [
      "enter num3\n",
      "3\n",
      "positive\n"
     ]
    }
   ],
   "source": [
    "num= int(input(\"enter num\"))\n",
    "print(num)\n",
    "\n",
    "if num > 0:\n",
    "    print(\"positive\")\n",
    "elif num == 0:\n",
    "    print(\"Zero\")\n",
    "else:\n",
    "    print(\"negative\")"
   ]
  },
  {
   "cell_type": "code",
   "execution_count": 4,
   "metadata": {},
   "outputs": [
    {
     "name": "stdout",
     "output_type": "stream",
     "text": [
      "enter num0\n",
      "0\n",
      "Zero\n"
     ]
    }
   ],
   "source": [
    "num= int(input(\"enter num\"))\n",
    "print(num)\n",
    "\n",
    "if num > 0:\n",
    "    print(\"positive\")\n",
    "elif num == 0:\n",
    "    print(\"Zero\")\n",
    "else:\n",
    "    print(\"negative\")"
   ]
  },
  {
   "cell_type": "code",
   "execution_count": 5,
   "metadata": {},
   "outputs": [
    {
     "name": "stdout",
     "output_type": "stream",
     "text": [
      "enter num-3\n",
      "-3\n",
      "negative\n"
     ]
    }
   ],
   "source": [
    "num= int(input(\"enter num\"))\n",
    "print(num)\n",
    "\n",
    "if num > 0:\n",
    "    print(\"positive\")\n",
    "elif num == 0:\n",
    "    print(\"Zero\")\n",
    "else:\n",
    "    print(\"negative\")"
   ]
  },
  {
   "cell_type": "code",
   "execution_count": 14,
   "metadata": {},
   "outputs": [],
   "source": [
    "# Workshop-3\n",
    "# Kullanicidan 3 tane tam sayi aliyoruz\n",
    "# girdiginiz sayilardan en buyugu hangisi ise ekrana en buyugu budur desin"
   ]
  },
  {
   "cell_type": "code",
   "execution_count": 15,
   "metadata": {},
   "outputs": [
    {
     "name": "stdout",
     "output_type": "stream",
     "text": [
      "1. sayi:2\n"
     ]
    }
   ],
   "source": [
    "sayi1= int(input(\"1. sayi:\"))"
   ]
  },
  {
   "cell_type": "code",
   "execution_count": 16,
   "metadata": {},
   "outputs": [
    {
     "name": "stdout",
     "output_type": "stream",
     "text": [
      "2. sayi:4\n"
     ]
    }
   ],
   "source": [
    "sayi2= int(input(\"2. sayi:\"))"
   ]
  },
  {
   "cell_type": "code",
   "execution_count": 17,
   "metadata": {},
   "outputs": [
    {
     "name": "stdout",
     "output_type": "stream",
     "text": [
      "3. sayi:6\n"
     ]
    }
   ],
   "source": [
    "sayi3= int(input(\"3. sayi:\"))"
   ]
  },
  {
   "cell_type": "code",
   "execution_count": 31,
   "metadata": {},
   "outputs": [
    {
     "name": "stdout",
     "output_type": "stream",
     "text": [
      "enbuyuk: 6\n"
     ]
    }
   ],
   "source": [
    "if (sayi1>=sayi2) and (sayi1>=sayi3):\n",
    "    enBuyuk=sayi1\n",
    "elif (sayi2>=sayi1) and (sayi2>=sayi3):\n",
    "    enBuyuk=sayi2\n",
    "else:\n",
    "    enBuyuk = sayi3\n",
    "    print(\"enbuyuk:\",enBuyuk) \n"
   ]
  },
  {
   "cell_type": "markdown",
   "metadata": {},
   "source": [
    "# Workshop-4    \n",
    "# Faktoriyel"
   ]
  },
  {
   "cell_type": "code",
   "execution_count": 1,
   "metadata": {},
   "outputs": [],
   "source": [
    "#\"faktoriyel\" dedigimizde 1*2*3*4*5*6\n",
    "# \"negatif\" sayilarin faktoriyeli olmaz \"0\" ise \"1\"dir"
   ]
  },
  {
   "cell_type": "code",
   "execution_count": 9,
   "metadata": {},
   "outputs": [
    {
     "name": "stdout",
     "output_type": "stream",
     "text": [
      "sayi:-2\n",
      "Negatif sayilarin faktoriyeli hesaplanamaz\n"
     ]
    }
   ],
   "source": [
    "# \"negatif\" sayilarin faktoriyeli olmaz\n",
    "sayi = int(input(\"sayi:\"))\n",
    "faktoriyel = 1\n",
    "if sayi<0:\n",
    "    print (\"Negatif sayilarin faktoriyeli hesaplanamaz\")\n",
    "elif sayi==0:\n",
    "    print(\"sonuc:1\")\n",
    "else:\n",
    "    for i in range(1,sayi+1):\n",
    "        faktoriyel = faktoriyel*i\n",
    "    print(\"sonuc: \",faktoriyel)"
   ]
  },
  {
   "cell_type": "code",
   "execution_count": 10,
   "metadata": {},
   "outputs": [
    {
     "name": "stdout",
     "output_type": "stream",
     "text": [
      "sayi:0\n",
      "sonuc:1\n"
     ]
    }
   ],
   "source": [
    "# \"0\" in faktoriyelo \"1\"dir\n",
    "sayi = int(input(\"sayi:\"))\n",
    "faktoriyel = 1\n",
    "if sayi<0:\n",
    "    print (\"Negatif sayilarin faktoriyeli hesaplanamaz\")\n",
    "elif sayi==0:\n",
    "    print(\"sonuc:1\")\n",
    "else:\n",
    "    for i in range(1,sayi+1):\n",
    "        faktoriyel = faktoriyel*i\n",
    "    print(\"sonuc: \",faktoriyel)"
   ]
  },
  {
   "cell_type": "code",
   "execution_count": 11,
   "metadata": {},
   "outputs": [
    {
     "name": "stdout",
     "output_type": "stream",
     "text": [
      "sayi:6\n",
      "sonuc:  720\n"
     ]
    }
   ],
   "source": [
    "sayi = int(input(\"sayi:\"))\n",
    "faktoriyel = 1\n",
    "if sayi<0:\n",
    "    print (\"Negatif sayilarin faktoriyeli hesaplanamaz\")\n",
    "elif sayi==0:\n",
    "    print(\"sonuc:1\")\n",
    "else:\n",
    "    for i in range(1,sayi+1):\n",
    "        faktoriyel = faktoriyel*i\n",
    "    print(\"sonuc: \",faktoriyel)"
   ]
  },
  {
   "cell_type": "code",
   "execution_count": 13,
   "metadata": {},
   "outputs": [],
   "source": [
    "#Matris Toplama islemi"
   ]
  },
  {
   "cell_type": "code",
   "execution_count": 14,
   "metadata": {},
   "outputs": [
    {
     "ename": "SyntaxError",
     "evalue": "invalid syntax (<ipython-input-14-9238790071ad>, line 3)",
     "output_type": "error",
     "traceback": [
      "\u001b[1;36m  File \u001b[1;32m\"<ipython-input-14-9238790071ad>\"\u001b[1;36m, line \u001b[1;32m3\u001b[0m\n\u001b[1;33m    1 3 5\u001b[0m\n\u001b[1;37m      ^\u001b[0m\n\u001b[1;31mSyntaxError\u001b[0m\u001b[1;31m:\u001b[0m invalid syntax\n"
     ]
    }
   ],
   "source": [
    "#matris\n",
    "#1.matris\n",
    "1 3 5\n",
    "2 4 1\n",
    "1 5 7\n",
    "\n",
    "#2.matris\n",
    "3 3 4\n",
    "2 4 1\n",
    "3 5 4 \n",
    "\n",
    "# matris toplama da birinci matrisle 2 matrisin sutunlarini kendi arasinda toplanir\n",
    "# yukardaki matrisleri toplayacak olursak\n",
    "4 6 9\n",
    "4 8 2\n",
    "4 10 11\n"
   ]
  },
  {
   "cell_type": "code",
   "execution_count": 23,
   "metadata": {},
   "outputs": [
    {
     "name": "stdout",
     "output_type": "stream",
     "text": [
      "[[4, 6, 9], [4, 8, 2], [4, 10, 11]]\n"
     ]
    }
   ],
   "source": [
    "# yukarida elle toplanan islemin python araciligiyla sonucu\n",
    "x = [[1,3,5],[2,4,1],[1,5,7]]\n",
    "\n",
    "y = [[3,3,4],[2,4,1],[3,5,4]]\n",
    "\n",
    "sonuc = [[0,0,0],[0,0,0],[0,0,0]]\n",
    "\n",
    "for i in range(len(x)):\n",
    "    for j in range(len(y)):\n",
    "        sonuc[i][j] = x[i][j]+y[i][j]\n",
    "print(sonuc)"
   ]
  },
  {
   "cell_type": "code",
   "execution_count": 66,
   "metadata": {},
   "outputs": [],
   "source": [
    "# Kelime siralamaca"
   ]
  },
  {
   "cell_type": "code",
   "execution_count": 67,
   "metadata": {},
   "outputs": [
    {
     "name": "stdout",
     "output_type": "stream",
     "text": [
      "bugun\n",
      "hava\n",
      "cok\n",
      "guzel\n"
     ]
    }
   ],
   "source": [
    "# Bu cumleyi alt alta kelimelerine ayirmak icin \"for\" dongusu kullaniyoruz\n",
    "cumle = \"bugun hava cok guzel\"\n",
    "for kelime in kelimeler:\n",
    "    print(kelime)\n"
   ]
  },
  {
   "cell_type": "code",
   "execution_count": 69,
   "metadata": {},
   "outputs": [
    {
     "name": "stdout",
     "output_type": "stream",
     "text": [
      "['bugun', 'cok', 'guzel', 'hava']\n"
     ]
    }
   ],
   "source": [
    "# Burada cumle sirali bir sekilde kelimelere ayriliyor.\n",
    "word = \"bugun hava cok guzel\"\n",
    "kelimeler = word.split()\n",
    "kelimeler.sort()\n",
    "print(kelimeler)"
   ]
  },
  {
   "cell_type": "markdown",
   "metadata": {},
   "source": [
    "# Workshop-5   \n",
    "# Hesap Makinasi yapma\n"
   ]
  },
  {
   "cell_type": "code",
   "execution_count": null,
   "metadata": {},
   "outputs": [],
   "source": [
    "def topla(sayi1,sayi2):\n",
    "    return sayi1 + sayi2\n",
    "\n",
    "def cikar(sayi1,sayi2):\n",
    "    return sayi1 - sayi2\n",
    "\n",
    "def carp(sayi1,sayi2):\n",
    "    return sayi1 * sayi2\n",
    "\n",
    "def bol(sayi1,sayi2):\n",
    "    return sayi1 / sayi2\n",
    "\n",
    "secenek = input(\"operasyon seciminiz?\")\n",
    "sayi1 = input(\"sayi1:\")\n",
    "sayi2 = input(\"sayi2:\")\n",
    "\n",
    "if secenek == \"1\":\n",
    "    print (\"Toplam: \"+str(topla(sayi1,sayi2)))\n",
    "\n",
    "elif secenek == \"2\":\n",
    "    print (\"Cikarma: \"+str(cikar(sayi1,sayi2)))\n",
    "    \n",
    "elif secenek == \"3\":\n",
    "     print (\"Carpma: \"+str(carp(sayi1,sayi2)))\n",
    "        \n",
    "elif secenek == \"4\":\n",
    "    print (\"Bolme: \"+str(bol(sayi1,sayi2)))\n",
    "    \n",
    "else:\n",
    "    print(\"Gecersiz secenek\")\n",
    "\n",
    "\n"
   ]
  },
  {
   "cell_type": "code",
   "execution_count": null,
   "metadata": {},
   "outputs": [],
   "source": []
  }
 ],
 "metadata": {
  "kernelspec": {
   "display_name": "Python 3",
   "language": "python",
   "name": "python3"
  },
  "language_info": {
   "codemirror_mode": {
    "name": "ipython",
    "version": 3
   },
   "file_extension": ".py",
   "mimetype": "text/x-python",
   "name": "python",
   "nbconvert_exporter": "python",
   "pygments_lexer": "ipython3",
   "version": "3.7.2"
  }
 },
 "nbformat": 4,
 "nbformat_minor": 2
}

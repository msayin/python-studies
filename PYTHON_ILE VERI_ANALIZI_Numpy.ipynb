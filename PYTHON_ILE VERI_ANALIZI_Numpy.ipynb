{
 "cells": [
  {
   "cell_type": "markdown",
   "metadata": {},
   "source": [
    "# SECTION \n",
    "# PYTHON_ILE VERI_ANALIZI\n"
   ]
  },
  {
   "cell_type": "markdown",
   "metadata": {},
   "source": [
    "# Veri Analizi:Numpy"
   ]
  },
  {
   "cell_type": "code",
   "execution_count": 9,
   "metadata": {},
   "outputs": [],
   "source": [
    "# Numpy Temelleri \n",
    "# Numpy= Numeric Python yani (Sayısal Python Kısaltması)\n",
    "# Numeric'in \"Num\" harfleri ile Python'un \"Py\" harflerinden olusuyor"
   ]
  },
  {
   "cell_type": "code",
   "execution_count": 9,
   "metadata": {},
   "outputs": [
    {
     "name": "stdout",
     "output_type": "stream",
     "text": [
      "[[11, 21, 31], [6, 17, 18], [11, 12, 13]]\n"
     ]
    }
   ],
   "source": [
    "import numpy as np\n",
    "havaDurumu = [[11,21,31],[6,17,18],[11,12,13]]\n",
    "print(havaDurumu)"
   ]
  },
  {
   "cell_type": "code",
   "execution_count": 25,
   "metadata": {},
   "outputs": [],
   "source": [
    "# \"ndim\" dimension count demek, yani boyut demek"
   ]
  },
  {
   "cell_type": "code",
   "execution_count": 11,
   "metadata": {},
   "outputs": [
    {
     "name": "stdout",
     "output_type": "stream",
     "text": [
      "[ 0  1  2  3  4  5  6  7  8  9 10 11 12 13 14]\n"
     ]
    }
   ],
   "source": [
    "# numpy da array = liste denebilir, ancak tamam liste de degil\n",
    "a=np.arange(15)# burada bize 0 dan baslayarak 15 kadar liste olusturudu\n",
    "print(a)\n"
   ]
  },
  {
   "cell_type": "code",
   "execution_count": 30,
   "metadata": {},
   "outputs": [
    {
     "name": "stdout",
     "output_type": "stream",
     "text": [
      "[[ 0  1  2  3  4]\n",
      " [ 5  6  7  8  9]\n",
      " [10 11 12 13 14]]\n",
      "2\n"
     ]
    }
   ],
   "source": [
    "# burda bize üç beşlik bir liste oluşturdu\n",
    "a=np.arange(15).reshape(3,5) # burasi 2 boyutlu yani 3 satir 5 sutun demek\n",
    "print(a)\n",
    "print(a.ndim) # burada 2 boyutlu oldugu soyluyor asagidaki 2 rakami"
   ]
  },
  {
   "cell_type": "code",
   "execution_count": 31,
   "metadata": {},
   "outputs": [
    {
     "name": "stdout",
     "output_type": "stream",
     "text": [
      "[0 1 2 3 4 5 6 7 8 9]\n"
     ]
    }
   ],
   "source": [
    "b=np.arange(10) # burasi tek boyutlu\n",
    "print(b)"
   ]
  },
  {
   "cell_type": "code",
   "execution_count": 32,
   "metadata": {},
   "outputs": [
    {
     "name": "stdout",
     "output_type": "stream",
     "text": [
      "(10,)\n",
      "1\n"
     ]
    }
   ],
   "source": [
    "# \"ndim\" \"dimension count\" demek, yani boyut demek\n",
    "print(b.shape)\n",
    "print(b.ndim) #burda 10 elamanli tek boyutlu oldugunu soylyor"
   ]
  },
  {
   "cell_type": "code",
   "execution_count": 33,
   "metadata": {},
   "outputs": [
    {
     "name": "stdout",
     "output_type": "stream",
     "text": [
      "1\n"
     ]
    }
   ],
   "source": [
    "print(b.ndim)"
   ]
  },
  {
   "cell_type": "markdown",
   "metadata": {},
   "source": [
    "# Numpy da dizilerle çalışmak"
   ]
  },
  {
   "cell_type": "code",
   "execution_count": 35,
   "metadata": {},
   "outputs": [
    {
     "name": "stdout",
     "output_type": "stream",
     "text": [
      "[1 2 3 4 5 6 7 8 9]\n"
     ]
    }
   ],
   "source": [
    "# Burada bir array olusturuyoruz.\n",
    "# Burda dogrusal bir sayi olusturdu\n",
    "a=np.arange(1,10)\n",
    "print(a)"
   ]
  },
  {
   "cell_type": "code",
   "execution_count": 44,
   "metadata": {},
   "outputs": [
    {
     "name": "stdout",
     "output_type": "stream",
     "text": [
      "[ 1  3  5  7  9 11]\n",
      "int32\n",
      "1\n"
     ]
    }
   ],
   "source": [
    "#[]parantez icine yazmak gerekiyor. boyle yazdigizda fonksiyona bir para metre gonderdin demek\n",
    "a=np.array([1,3,5,7,9,11])\n",
    "print(a)\n",
    "print(a.dtype) # 32int verdi. Bu numpy daki elamanlardaki veri tipi demek\n",
    "print(a.ndim)# asagidaki 1 tek boyutlu oldugunu soyluyor"
   ]
  },
  {
   "cell_type": "code",
   "execution_count": 45,
   "metadata": {},
   "outputs": [
    {
     "name": "stdout",
     "output_type": "stream",
     "text": [
      "[[ 1  3]\n",
      " [ 5  7]\n",
      " [ 9 11]]\n",
      "2\n"
     ]
    }
   ],
   "source": [
    "b=np.array([[1,3],[5,7],[9,11]])\n",
    "print(b)\n",
    "print(b.ndim)# asagidaki 2, iki boyutlu oldugunu soyluyor"
   ]
  },
  {
   "cell_type": "code",
   "execution_count": 48,
   "metadata": {},
   "outputs": [
    {
     "name": "stdout",
     "output_type": "stream",
     "text": [
      "[ 1.          1.18367347  1.36734694  1.55102041  1.73469388  1.91836735\n",
      "  2.10204082  2.28571429  2.46938776  2.65306122  2.83673469  3.02040816\n",
      "  3.20408163  3.3877551   3.57142857  3.75510204  3.93877551  4.12244898\n",
      "  4.30612245  4.48979592  4.67346939  4.85714286  5.04081633  5.2244898\n",
      "  5.40816327  5.59183673  5.7755102   5.95918367  6.14285714  6.32653061\n",
      "  6.51020408  6.69387755  6.87755102  7.06122449  7.24489796  7.42857143\n",
      "  7.6122449   7.79591837  7.97959184  8.16326531  8.34693878  8.53061224\n",
      "  8.71428571  8.89795918  9.08163265  9.26530612  9.44897959  9.63265306\n",
      "  9.81632653 10.        ]\n"
     ]
    }
   ],
   "source": [
    "# Numpy da \"linspace\" ile calismak\n",
    "a=np.linspace(1,10) # bu durumda 1 ile 10 arasina 50 tane sayi yerlestiriyor\n",
    "print(a)"
   ]
  },
  {
   "cell_type": "code",
   "execution_count": 49,
   "metadata": {},
   "outputs": [
    {
     "name": "stdout",
     "output_type": "stream",
     "text": [
      "[ 1.  2.  3.  4.  5.  6.  7.  8.  9. 10.]\n"
     ]
    }
   ],
   "source": [
    "a=np.linspace(1,10,10) # bu durumda 1 ile 10 arasinda esit araliklarla 10 sayi olusturuyor\n",
    "print(a) "
   ]
  },
  {
   "cell_type": "code",
   "execution_count": 52,
   "metadata": {},
   "outputs": [
    {
     "name": "stdout",
     "output_type": "stream",
     "text": [
      "[ 1.    3.25  5.5   7.75 10.  ]\n"
     ]
    }
   ],
   "source": [
    "a=np.linspace(1,10,5) # bu durumda 1 ile 10 arasina 5 tane esit araliklarla sayi yerlestiriyor\n",
    "print(a) # ornektede goruldugu gibi her arasik arasi esit ve 2,5 olarak artmis"
   ]
  },
  {
   "cell_type": "code",
   "execution_count": 57,
   "metadata": {},
   "outputs": [
    {
     "name": "stdout",
     "output_type": "stream",
     "text": [
      "[0.         0.06346652 0.12693304 0.19039955 0.25386607 0.31733259\n",
      " 0.38079911 0.44426563 0.50773215 0.57119866 0.63466518 0.6981317\n",
      " 0.76159822 0.82506474 0.88853126 0.95199777 1.01546429 1.07893081\n",
      " 1.14239733 1.20586385 1.26933037 1.33279688 1.3962634  1.45972992\n",
      " 1.52319644 1.58666296 1.65012947 1.71359599 1.77706251 1.84052903\n",
      " 1.90399555 1.96746207 2.03092858 2.0943951  2.15786162 2.22132814\n",
      " 2.28479466 2.34826118 2.41172769 2.47519421 2.53866073 2.60212725\n",
      " 2.66559377 2.72906028 2.7925268  2.85599332 2.91945984 2.98292636\n",
      " 3.04639288 3.10985939 3.17332591 3.23679243 3.30025895 3.36372547\n",
      " 3.42719199 3.4906585  3.55412502 3.61759154 3.68105806 3.74452458\n",
      " 3.8079911  3.87145761 3.93492413 3.99839065 4.06185717 4.12532369\n",
      " 4.1887902  4.25225672 4.31572324 4.37918976 4.44265628 4.5061228\n",
      " 4.56958931 4.63305583 4.69652235 4.75998887 4.82345539 4.88692191\n",
      " 4.95038842 5.01385494 5.07732146 5.14078798 5.2042545  5.26772102\n",
      " 5.33118753 5.39465405 5.45812057 5.52158709 5.58505361 5.64852012\n",
      " 5.71198664 5.77545316 5.83891968 5.9023862  5.96585272 6.02931923\n",
      " 6.09278575 6.15625227 6.21971879 6.28318531]\n"
     ]
    }
   ],
   "source": [
    "#\"linspace\" matamatiksel ve istatistiksel islemlerde kullaniliyor\n",
    "from numpy import pi\n",
    "x = np.linspace(0,2*pi,100)\n",
    "print(x)"
   ]
  },
  {
   "cell_type": "code",
   "execution_count": 59,
   "metadata": {},
   "outputs": [
    {
     "name": "stdout",
     "output_type": "stream",
     "text": [
      "[ 0.00000000e+00  6.34239197e-02  1.26592454e-01  1.89251244e-01\n",
      "  2.51147987e-01  3.12033446e-01  3.71662456e-01  4.29794912e-01\n",
      "  4.86196736e-01  5.40640817e-01  5.92907929e-01  6.42787610e-01\n",
      "  6.90079011e-01  7.34591709e-01  7.76146464e-01  8.14575952e-01\n",
      "  8.49725430e-01  8.81453363e-01  9.09631995e-01  9.34147860e-01\n",
      "  9.54902241e-01  9.71811568e-01  9.84807753e-01  9.93838464e-01\n",
      "  9.98867339e-01  9.99874128e-01  9.96854776e-01  9.89821442e-01\n",
      "  9.78802446e-01  9.63842159e-01  9.45000819e-01  9.22354294e-01\n",
      "  8.95993774e-01  8.66025404e-01  8.32569855e-01  7.95761841e-01\n",
      "  7.55749574e-01  7.12694171e-01  6.66769001e-01  6.18158986e-01\n",
      "  5.67059864e-01  5.13677392e-01  4.58226522e-01  4.00930535e-01\n",
      "  3.42020143e-01  2.81732557e-01  2.20310533e-01  1.58001396e-01\n",
      "  9.50560433e-02  3.17279335e-02 -3.17279335e-02 -9.50560433e-02\n",
      " -1.58001396e-01 -2.20310533e-01 -2.81732557e-01 -3.42020143e-01\n",
      " -4.00930535e-01 -4.58226522e-01 -5.13677392e-01 -5.67059864e-01\n",
      " -6.18158986e-01 -6.66769001e-01 -7.12694171e-01 -7.55749574e-01\n",
      " -7.95761841e-01 -8.32569855e-01 -8.66025404e-01 -8.95993774e-01\n",
      " -9.22354294e-01 -9.45000819e-01 -9.63842159e-01 -9.78802446e-01\n",
      " -9.89821442e-01 -9.96854776e-01 -9.99874128e-01 -9.98867339e-01\n",
      " -9.93838464e-01 -9.84807753e-01 -9.71811568e-01 -9.54902241e-01\n",
      " -9.34147860e-01 -9.09631995e-01 -8.81453363e-01 -8.49725430e-01\n",
      " -8.14575952e-01 -7.76146464e-01 -7.34591709e-01 -6.90079011e-01\n",
      " -6.42787610e-01 -5.92907929e-01 -5.40640817e-01 -4.86196736e-01\n",
      " -4.29794912e-01 -3.71662456e-01 -3.12033446e-01 -2.51147987e-01\n",
      " -1.89251244e-01 -1.26592454e-01 -6.34239197e-02 -2.44929360e-16]\n"
     ]
    }
   ],
   "source": [
    "#\"linspace\" matamatiksel ve istatistiksel islemlerde kullaniliyor\n",
    "from numpy import pi\n",
    "x = np.linspace(0,2*pi,100)\n",
    "print(np.sin(x)) # burada 0 derece ile 360 derecenin \"sin\" degerini hesaplamis olduk"
   ]
  },
  {
   "cell_type": "markdown",
   "metadata": {},
   "source": [
    "# \"Numpy\" in temel opersayonlari"
   ]
  },
  {
   "cell_type": "code",
   "execution_count": 71,
   "metadata": {},
   "outputs": [
    {
     "name": "stdout",
     "output_type": "stream",
     "text": [
      "[20 29 38 47]\n",
      "[0 1 4 9]\n"
     ]
    }
   ],
   "source": [
    "a= np.array([20,30,40,50])\n",
    "b= np.arange (4) #burda print demis olsak 0 ile 4 arasindaki sayilari\n",
    "                 # yazdiracak orn:(0,1,2,3) gibi\n",
    "                \n",
    "c=a-b # bu durumda \"20 den 0\", \"30 dan 1\", \"40 tan 2\" ve 50 den 3 cikarmis oluyor\n",
    "      # ornektede goruldugu gibi\n",
    "print(c) # print yazmadan direk atanan degerde yazilarak sonuc alinabilir\n",
    "d=b**2 # bu durumda da bu sayilarin karesini veriyor asagida 0,1,4,9 gibi\n",
    "print(d) "
   ]
  },
  {
   "cell_type": "code",
   "execution_count": 75,
   "metadata": {},
   "outputs": [
    {
     "name": "stdout",
     "output_type": "stream",
     "text": [
      "[  0  30  80 150]\n"
     ]
    }
   ],
   "source": [
    "print(a*b) #burada a ile b i carparak verdi\n",
    "           #bu durumda \"20 den 0\", \"30 u 1\", \"40 i 2\" ve 50 yi de 3 ile carpti"
   ]
  },
  {
   "cell_type": "code",
   "execution_count": 77,
   "metadata": {},
   "outputs": [
    {
     "name": "stdout",
     "output_type": "stream",
     "text": [
      "260\n"
     ]
    }
   ],
   "source": [
    "# matris carpimini bulmak icin\n",
    "# \"@\" isareti kullaniyoruz. bu \"@\" isareti bir operator\n",
    "print(a@b)"
   ]
  },
  {
   "cell_type": "code",
   "execution_count": 78,
   "metadata": {},
   "outputs": [
    {
     "name": "stdout",
     "output_type": "stream",
     "text": [
      "260\n"
     ]
    }
   ],
   "source": [
    "# matris carpiminin bir diger kullanimi\n",
    "print(a.dot(b)) # yukardaki ve bu ayni sey"
   ]
  },
  {
   "cell_type": "code",
   "execution_count": 85,
   "metadata": {},
   "outputs": [
    {
     "name": "stdout",
     "output_type": "stream",
     "text": [
      "[[1. 1. 1. 1.]\n",
      " [1. 1. 1. 1.]]\n",
      "[[0. 0. 0. 0.]\n",
      " [0. 0. 0. 0.]]\n"
     ]
    }
   ],
   "source": [
    "f=np.ones((2,4)) # burda 2 satir 4 sutun olusturdu\n",
    "g=np.zeros((2,4))# burda 2 satir 4 sutun olusturdu\n",
    "print(f)\n",
    "print(g)"
   ]
  },
  {
   "cell_type": "code",
   "execution_count": 89,
   "metadata": {},
   "outputs": [
    {
     "data": {
      "text/plain": [
       "array([[0.54378958, 0.79210645, 0.9615777 , 0.13557366],\n",
       "       [0.56373044, 0.31567473, 0.61747954, 0.48378758]])"
      ]
     },
     "execution_count": 89,
     "metadata": {},
     "output_type": "execute_result"
    }
   ],
   "source": [
    "h=np.random.random((2,4)) # burda random sayilar uretiyor. her calistirdigimizda farkli sonuc alacagiz\n",
    "h\n"
   ]
  },
  {
   "cell_type": "code",
   "execution_count": 94,
   "metadata": {},
   "outputs": [
    {
     "data": {
      "text/plain": [
       "6"
      ]
     },
     "execution_count": 94,
     "metadata": {},
     "output_type": "execute_result"
    }
   ],
   "source": [
    "i=np.sum(b) # \"b\" nin degeri 0,1,2,3 oldugu icin topladi 6 rakamini verdi\n",
    "i"
   ]
  },
  {
   "cell_type": "code",
   "execution_count": 101,
   "metadata": {},
   "outputs": [
    {
     "name": "stdout",
     "output_type": "stream",
     "text": [
      "0\n",
      "3\n"
     ]
    }
   ],
   "source": [
    "j=np.min(b) #b nin en kucuk degeri 0 oldugu icin \"min\" 0 verdi\n",
    "l=np.max(b) # b nin en buyuk degeri 3 oldugu icin \"max\" 3 veriyor\n",
    "print(j)\n",
    "print(l)"
   ]
  },
  {
   "cell_type": "markdown",
   "metadata": {},
   "source": [
    "# indexleme ve parçalama"
   ]
  },
  {
   "cell_type": "code",
   "execution_count": 109,
   "metadata": {},
   "outputs": [
    {
     "name": "stdout",
     "output_type": "stream",
     "text": [
      "0\n",
      "30\n"
     ]
    }
   ],
   "source": [
    "#burada sayilarin indexine ulasiyoruz\n",
    "sayilar=np.array([0,5,10,15,20,25,30])\n",
    "print(sayilar[0]) burda 0 daki index degeri 0\n",
    "print(sayilar[6]) burda 6 nin index degeri 30\n"
   ]
  },
  {
   "cell_type": "code",
   "execution_count": 112,
   "metadata": {},
   "outputs": [
    {
     "name": "stdout",
     "output_type": "stream",
     "text": [
      "[ 0  5 10]\n"
     ]
    }
   ],
   "source": [
    "# burda 0 ile 3 arasindaki indexleri parcalayarak aliyoruz\n",
    "print(sayilar[0:3])#bu bir boyutlu sayilar"
   ]
  },
  {
   "cell_type": "code",
   "execution_count": 113,
   "metadata": {},
   "outputs": [
    {
     "name": "stdout",
     "output_type": "stream",
     "text": [
      "[ 0  5 10]\n"
     ]
    }
   ],
   "source": [
    "sayilar2=np.array([[0,5,10],[15,20,25]])\n",
    "print(sayilar2[0]) # burda iki boyutlu oldugu icin sifirinci indexin 0 daki index degerini verdi"
   ]
  },
  {
   "cell_type": "code",
   "execution_count": 114,
   "metadata": {},
   "outputs": [
    {
     "name": "stdout",
     "output_type": "stream",
     "text": [
      "[15 20 25]\n"
     ]
    }
   ],
   "source": [
    "sayilar2=np.array([[0,5,10],[15,20,25]])\n",
    "print(sayilar2[1]) # burda birinci indexin 1 deki index degerini verdi"
   ]
  },
  {
   "cell_type": "code",
   "execution_count": 115,
   "metadata": {},
   "outputs": [
    {
     "name": "stdout",
     "output_type": "stream",
     "text": [
      "25\n"
     ]
    }
   ],
   "source": [
    "sayilar2=np.array([[0,5,10],[15,20,25]])\n",
    "print(sayilar2[1,2]) # burda 1.index in 2 siradaki yani 25 degerini verdi"
   ]
  },
  {
   "cell_type": "code",
   "execution_count": 117,
   "metadata": {},
   "outputs": [
    {
     "name": "stdout",
     "output_type": "stream",
     "text": [
      "[10 25]\n"
     ]
    }
   ],
   "source": [
    "sayilar2=np.array([[0,5,10],[15,20,25]])\n",
    "print(sayilar2[:,2]) # burda iki nota (:) tum satirlar demek\n",
    "                    # boyle bir yazimda tum satirlardan 2 indexin degerini verdi"
   ]
  },
  {
   "cell_type": "code",
   "execution_count": 119,
   "metadata": {},
   "outputs": [
    {
     "name": "stdout",
     "output_type": "stream",
     "text": [
      "[[ 0  5]\n",
      " [15 20]]\n"
     ]
    }
   ],
   "source": [
    "sayilar2=np.array([[0,5,10],[15,20,25]])\n",
    "print(sayilar2[:,0:2]) # burda virggulden onceki iki nokta satir gosteriyor \n",
    "                       # virgul den sonraki 0:2 ise sutunu veriyor"
   ]
  },
  {
   "cell_type": "code",
   "execution_count": 122,
   "metadata": {},
   "outputs": [
    {
     "name": "stdout",
     "output_type": "stream",
     "text": [
      "[30 25 20 15 10  5  0]\n"
     ]
    }
   ],
   "source": [
    "print(sayilar[::-1]) # burda sayilardaki intexi tersten verdi"
   ]
  },
  {
   "cell_type": "code",
   "execution_count": 124,
   "metadata": {},
   "outputs": [
    {
     "name": "stdout",
     "output_type": "stream",
     "text": [
      "[[15 20 25]]\n"
     ]
    }
   ],
   "source": [
    "print(sayilar2[-1:])# burda en son satirdaki index ulasmak icin yapiyoruz"
   ]
  },
  {
   "cell_type": "code",
   "execution_count": 126,
   "metadata": {},
   "outputs": [
    {
     "name": "stdout",
     "output_type": "stream",
     "text": [
      "[[10]\n",
      " [25]]\n"
     ]
    }
   ],
   "source": [
    "print(sayilar2[:,-1:])# burda en son stundaki tum index ulasmak icin yapiyoruz"
   ]
  },
  {
   "cell_type": "markdown",
   "metadata": {},
   "source": [
    "# Shape Manipulation\n"
   ]
  },
  {
   "cell_type": "code",
   "execution_count": 175,
   "metadata": {},
   "outputs": [],
   "source": [
    "# https://docs.scipy.org/doc/numpy-1.13.0/index.html\n",
    "# numpy documantason linki"
   ]
  },
  {
   "cell_type": "code",
   "execution_count": 176,
   "metadata": {},
   "outputs": [],
   "source": [
    "# \"iterating\" gezemek demek. yani for dongusuyle dizinler icierisinde gezmek demek"
   ]
  },
  {
   "cell_type": "code",
   "execution_count": 177,
   "metadata": {},
   "outputs": [
    {
     "name": "stdout",
     "output_type": "stream",
     "text": [
      "[[0. 0. 6. 2.]\n",
      " [4. 7. 7. 1.]\n",
      " [3. 4. 7. 8.]]\n",
      "(3, 4)\n"
     ]
    }
   ],
   "source": [
    "#\"floor\" zemin demek ve burda ondalik sayilari asagi sekerek tam sayi yap demek\n",
    "\n",
    "a=np.floor(10*np.random.random((3,4))) # burada rast gele sayilar olusturuluyor ve her calistirdigimizda rakamlar degisiyor\n",
    "print(a)\n",
    "print(a.shape) # burda bize 3 e 4 luk bir array oldugunu soyluyor\n"
   ]
  },
  {
   "cell_type": "code",
   "execution_count": 178,
   "metadata": {},
   "outputs": [
    {
     "name": "stdout",
     "output_type": "stream",
     "text": [
      "[0. 0. 6. 2. 4. 7. 7. 1. 3. 4. 7. 8.]\n"
     ]
    }
   ],
   "source": [
    "#\"ravel\" duzlestirmek demek\n",
    "print(a.ravel()) #burada tek satir haline getirerek duzlestirme yapiyor."
   ]
  },
  {
   "cell_type": "code",
   "execution_count": 179,
   "metadata": {},
   "outputs": [
    {
     "name": "stdout",
     "output_type": "stream",
     "text": [
      "[[0. 0. 6. 2.]\n",
      " [4. 7. 7. 1.]\n",
      " [3. 4. 7. 8.]]\n"
     ]
    }
   ],
   "source": [
    "print(a) # dedigimizde tekrar yukardaki floor halinde basiyor.\n",
    "        # cunki biz burada \"ravel \" yaparken \"a\"yi bir degere atamadigimiz icin tekrar \"floor\" basiliyor"
   ]
  },
  {
   "cell_type": "code",
   "execution_count": 180,
   "metadata": {},
   "outputs": [
    {
     "name": "stdout",
     "output_type": "stream",
     "text": [
      "[0. 0. 6. 2. 4. 7. 7. 1. 3. 4. 7. 8.]\n"
     ]
    },
    {
     "data": {
      "text/plain": [
       "12"
      ]
     },
     "execution_count": 180,
     "metadata": {},
     "output_type": "execute_result"
    }
   ],
   "source": [
    "a=a.ravel()\n",
    "print(a) # \"a\"yi bir degere atadigimiz icin bu durumda ise duzlestirme yapiyor ve kalici hale getiriyor\n",
    "len(a) # burda \"a\"nin uzunlugunu 12 elamandan olusan yani 12 rakamdan olustugunu soyluyor"
   ]
  },
  {
   "cell_type": "code",
   "execution_count": 181,
   "metadata": {},
   "outputs": [
    {
     "name": "stdout",
     "output_type": "stream",
     "text": [
      "[[0. 0. 6. 2. 4. 7.]\n",
      " [7. 1. 3. 4. 7. 8.]]\n"
     ]
    }
   ],
   "source": [
    "a=a.reshape(2,6) # burada yeni bir dizin olusturabiliyoruz                   # yani \"a\" yi yeniden sekillendirebiliyoruz\n",
    "print(a)\n"
   ]
  },
  {
   "cell_type": "code",
   "execution_count": 183,
   "metadata": {},
   "outputs": [
    {
     "name": "stdout",
     "output_type": "stream",
     "text": [
      "[[0. 7.]\n",
      " [0. 1.]\n",
      " [6. 3.]\n",
      " [2. 4.]\n",
      " [4. 7.]\n",
      " [7. 8.]]\n"
     ]
    }
   ],
   "source": [
    "#\"transpose\" etmek bir \"array\" i bulundugu konumdan 180 dere cevirmek demek\n",
    "print(a.T) # burada da goruldugu gibi yukardaki array i 180 derece cevirrek yazdirdi"
   ]
  },
  {
   "cell_type": "code",
   "execution_count": 185,
   "metadata": {},
   "outputs": [
    {
     "name": "stdout",
     "output_type": "stream",
     "text": [
      "[[0. 0. 6. 2. 4. 7.]\n",
      " [7. 1. 3. 4. 7. 8.]]\n"
     ]
    }
   ],
   "source": [
    "print(a.reshape(2,6)) # yukardaki transpose tekrar normal hale donusturmus olduk"
   ]
  },
  {
   "cell_type": "code",
   "execution_count": 190,
   "metadata": {},
   "outputs": [
    {
     "name": "stdout",
     "output_type": "stream",
     "text": [
      "[[0. 0. 6. 2. 4. 7.]\n",
      " [7. 1. 3. 4. 7. 8.]]\n"
     ]
    }
   ],
   "source": [
    "print(a.reshape(2,-1)) #bu durumdada da yukarada ki ile ayni islemi yapmis oluyoruz"
   ]
  },
  {
   "cell_type": "code",
   "execution_count": 196,
   "metadata": {},
   "outputs": [
    {
     "name": "stdout",
     "output_type": "stream",
     "text": [
      "[[1. 7. 6.]\n",
      " [4. 8. 1.]]\n",
      "[[6. 6. 1.]\n",
      " [1. 6. 3.]]\n",
      "[[1. 7. 6.]\n",
      " [4. 8. 1.]\n",
      " [6. 6. 1.]\n",
      " [1. 6. 3.]]\n"
     ]
    }
   ],
   "source": [
    "#\"Stacking\" fonksiyonunun kullanilisi\n",
    "a=np.floor(10*np.random.random((2,3)))\n",
    "b=np.floor(10*np.random.random((2,3)))\n",
    "print(a)\n",
    "print(b)\n",
    "c=np.vstack((a,b)) # burada diziyi dikey olarak tek parametre halinde dikey hale getirdi\n",
    "print(c) #vstack sutun sayisini degistirmek istemedigimizde yapariz"
   ]
  },
  {
   "cell_type": "code",
   "execution_count": 199,
   "metadata": {},
   "outputs": [
    {
     "name": "stdout",
     "output_type": "stream",
     "text": [
      "[[1. 7. 6. 6. 6. 1.]\n",
      " [4. 8. 1. 1. 6. 3.]]\n"
     ]
    }
   ],
   "source": [
    "c=np.hstack((a,b)) # burada diziyi yatay olarak tek parametre halinde dikey hale getirdi\n",
    "print(c) #hstack satir sayisini degistirmek istemedigimizde yapariz"
   ]
  },
  {
   "cell_type": "markdown",
   "metadata": {},
   "source": [
    "# Dizi Referanslası-Kopyalama-Görünüm"
   ]
  },
  {
   "cell_type": "code",
   "execution_count": 248,
   "metadata": {},
   "outputs": [
    {
     "name": "stdout",
     "output_type": "stream",
     "text": [
      "[0 1 2 3 4 5 6 7 8 9]\n"
     ]
    }
   ],
   "source": [
    "a=np.arange(10)\n",
    "print(a)"
   ]
  },
  {
   "cell_type": "code",
   "execution_count": 249,
   "metadata": {},
   "outputs": [
    {
     "name": "stdout",
     "output_type": "stream",
     "text": [
      "2\n",
      "[2]\n"
     ]
    }
   ],
   "source": [
    "b=a\n",
    "print(a[2])\n",
    "print([2])"
   ]
  },
  {
   "cell_type": "code",
   "execution_count": 250,
   "metadata": {},
   "outputs": [
    {
     "name": "stdout",
     "output_type": "stream",
     "text": [
      "[100   1   2   3   4   5   6   7   8   9]\n",
      "[100   1   2   3   4   5   6   7   8   9]\n"
     ]
    }
   ],
   "source": [
    "# referans atama\n",
    "# bu durum diziler ve class lar icin gecerli\n",
    "                \n",
    "b[0]=100 #burada b nin 0 indexini 100 ile degistirdi\n",
    "print(a) # burada a=b dedigimizden dolayi bellekte a nin ve b nin ayni sey oldugunu goruyoruz\n",
    "print(b) # bu durumda hem a nin hemde b nin 0 indexini degistiriyor"
   ]
  },
  {
   "cell_type": "code",
   "execution_count": 251,
   "metadata": {},
   "outputs": [
    {
     "name": "stdout",
     "output_type": "stream",
     "text": [
      "[100   1   2   3   4   5   6   7   8   9]\n"
     ]
    }
   ],
   "source": [
    "# \"copy\" fonksiyonu ile elimizdeki verilerin kopyasini olusturabiliyoruz\n",
    "c=a.copy() # burada \"c\" \"a\" nin gercek bir kopyasi\n",
    "print(c) # dedigimizde yukaridaki \"a\"ya esit oldugunu goruyoruz"
   ]
  },
  {
   "cell_type": "code",
   "execution_count": 252,
   "metadata": {},
   "outputs": [
    {
     "name": "stdout",
     "output_type": "stream",
     "text": [
      "[100   1   2   3   4   5   6   7   8   9]\n",
      "[1000    1    2    3    4    5    6    7    8    9]\n"
     ]
    }
   ],
   "source": [
    "c[0]=1000 # bu durumda \"c\"yi 1000 esitledik\n",
    "print(a) # goruldugu gibi a degismemis\n",
    "print(c) # degistigi icin artik c 1000 dir"
   ]
  },
  {
   "cell_type": "code",
   "execution_count": 253,
   "metadata": {},
   "outputs": [
    {
     "name": "stdout",
     "output_type": "stream",
     "text": [
      "-----------\n",
      "[100   1   2   3   4   5   6   7   8   9]\n",
      "[100   1   2   3   4   5   6   7   8   9]\n",
      "[250   1   2   3   4   5   6   7   8   9]\n",
      "[250   1   2   3   4   5   6   7   8   9]\n"
     ]
    }
   ],
   "source": [
    "#\"view\" fonksiyonunun kullanimi\n",
    "# burda a degerini degistirdigimizde \"copy\" da da degissin istiyoruz\n",
    "d=a.view() # bu durumda \"d\" \"a\"nin view oluyor\n",
    "print(\"-----------\") # bunu ayirac olarak kullandim\n",
    "print(a)\n",
    "print(d)\n",
    "d[0]=250\n",
    "print(a)\n",
    "print(d)"
   ]
  },
  {
   "cell_type": "code",
   "execution_count": 259,
   "metadata": {},
   "outputs": [
    {
     "name": "stdout",
     "output_type": "stream",
     "text": [
      "[125   1   2   3   4   5   6   7   8   9]\n",
      "[[125   1   2   3   4]\n",
      " [  5   6   7   8   9]]\n",
      "[125   1   2   3   4   5   6   7   8   9]\n",
      "[[125   1   2   3   4]\n",
      " [  5   6   7   8   9]]\n"
     ]
    }
   ],
   "source": [
    "# burada data lar ayni kaldi ama shape leri degisti\n",
    "d.shape=2,5\n",
    "print(a)\n",
    "print(d)\n",
    "a[0]=125\n",
    "print(a) # burda da goruldugu gibi ikisinde de data degisti\n",
    "print(d)"
   ]
  },
  {
   "cell_type": "code",
   "execution_count": null,
   "metadata": {},
   "outputs": [],
   "source": []
  }
 ],
 "metadata": {
  "kernelspec": {
   "display_name": "Python 3",
   "language": "python",
   "name": "python3"
  },
  "language_info": {
   "codemirror_mode": {
    "name": "ipython",
    "version": 3
   },
   "file_extension": ".py",
   "mimetype": "text/x-python",
   "name": "python",
   "nbconvert_exporter": "python",
   "pygments_lexer": "ipython3",
   "version": "3.7.2"
  }
 },
 "nbformat": 4,
 "nbformat_minor": 2
}
